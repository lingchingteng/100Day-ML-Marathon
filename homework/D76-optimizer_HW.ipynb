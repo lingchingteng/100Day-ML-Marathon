{
 "cells": [
  {
   "cell_type": "markdown",
   "metadata": {},
   "source": [
    "# 作業重點:\n",
    "\n",
    "(1)以, Adam, 為例, 調整 batch_size, epoch , 觀察accurancy, loss 的變化\n",
    "\n",
    "(2)以同一模型, 分別驗證 SGD, Adam, Rmsprop 的 accurancy"
   ]
  },
  {
   "cell_type": "markdown",
   "metadata": {},
   "source": [
    "# 作業目標:\n",
    "    \n",
    "    取得各種優化器的運算結果"
   ]
  },
  {
   "cell_type": "code",
   "execution_count": 1,
   "metadata": {},
   "outputs": [],
   "source": [
    "from __future__ import print_function\n",
    "import tensorflow.keras as keras\n",
    "from tensorflow.keras.datasets import cifar10\n",
    "from tensorflow.keras.preprocessing.image import ImageDataGenerator\n",
    "from tensorflow.keras.models import Sequential\n",
    "from tensorflow.keras.layers import Dense, Dropout, Activation, Flatten\n",
    "from tensorflow.keras.layers import Conv2D, MaxPooling2D\n",
    "import os\n",
    "from tensorflow.keras import optimizers\n"
   ]
  },
  {
   "cell_type": "code",
   "execution_count": 2,
   "metadata": {},
   "outputs": [],
   "source": [
    "#Blas GEMM launch failed , 避免動態分配GPU / CPU, 出現問題\n",
    "import tensorflow as tf\n",
    "# gpu_options = tf.GPUOptions(per_process_gpu_memory_fraction=0.333)\n",
    "# sess = tf.Session(config=tf.ConfigProto(gpu_options=gpu_options))\n"
   ]
  },
  {
   "cell_type": "code",
   "execution_count": 3,
   "metadata": {},
   "outputs": [],
   "source": [
    "\n",
    "'''\n",
    "   宣告並設定\n",
    "   batch_size：對總的樣本數進行分組，每組包含的樣本數量\n",
    "   epochs ：訓練次數\n",
    "   \n",
    "''' \n",
    "\n",
    "batch_size = 64\n",
    "num_classes = 10\n",
    "epochs = 20\n",
    "data_augmentation = True\n",
    "num_predictions = 20\n",
    "save_dir = os.path.join(os.getcwd(), 'saved_models')\n",
    "model_name = 'keras_cifar10_trained_model.h5'\n"
   ]
  },
  {
   "cell_type": "code",
   "execution_count": 4,
   "metadata": {},
   "outputs": [
    {
     "name": "stdout",
     "output_type": "stream",
     "text": [
      "Downloading data from https://www.cs.toronto.edu/~kriz/cifar-10-python.tar.gz\n",
      "170500096/170498071 [==============================] - 1015s 6us/step\n",
      "x_train shape: (50000, 32, 32, 3)\n",
      "50000 train samples\n",
      "10000 test samples\n"
     ]
    }
   ],
   "source": [
    "# The data, split between train and test sets:\n",
    "(x_train, y_train), (x_test, y_test) = cifar10.load_data()\n",
    "print('x_train shape:', x_train.shape)\n",
    "print(x_train.shape[0], 'train samples')\n",
    "print(x_test.shape[0], 'test samples')\n",
    "\n",
    "# Convert class vectors to binary class matrices.\n",
    "y_train = keras.utils.to_categorical(y_train, num_classes)\n",
    "y_test = keras.utils.to_categorical(y_test, num_classes)"
   ]
  },
  {
   "cell_type": "code",
   "execution_count": 5,
   "metadata": {},
   "outputs": [],
   "source": [
    "#    第一步：選擇模型, 順序模型是多個網絡層的線性堆疊\n",
    " \n",
    "model = Sequential()\n",
    "\n",
    "#   第二步：構建網絡層\n",
    "model.add(Conv2D(32, (3, 3), padding='same',\n",
    "                 input_shape=x_train.shape[1:]))\n",
    "model.add(Activation('relu'))\n",
    "model.add(Conv2D(32, (3, 3)))\n",
    "model.add(Activation('relu'))\n",
    "model.add(MaxPooling2D(pool_size=(2, 2)))\n",
    "model.add(Dropout(0.25))\n",
    "\n",
    "model.add(Conv2D(64, (3, 3), padding='same'))\n",
    "model.add(Activation('relu'))\n",
    "model.add(Conv2D(64, (3, 3)))\n",
    "model.add(Activation('relu'))\n",
    "model.add(MaxPooling2D(pool_size=(2, 2)))\n",
    "model.add(Dropout(0.25))\n",
    "\n",
    "model.add(Flatten())\n",
    "model.add(Dense(512))\n",
    "model.add(Activation('relu'))\n",
    "model.add(Dropout(0.5))\n",
    "\n",
    "model.add(Dense( 10)) # 輸出結果是10個類別，所以維度是10   \n",
    "model.add(Activation('softmax')) # 最後一層用softmax作為激活函數"
   ]
  },
  {
   "cell_type": "code",
   "execution_count": 6,
   "metadata": {},
   "outputs": [
    {
     "name": "stdout",
     "output_type": "stream",
     "text": [
      "Total Parameters：1250858\n"
     ]
    }
   ],
   "source": [
    "# 模型建立完成後，統計參數總量\n",
    "print(\"Total Parameters：%d\" % model.count_params())"
   ]
  },
  {
   "cell_type": "code",
   "execution_count": 7,
   "metadata": {},
   "outputs": [
    {
     "name": "stdout",
     "output_type": "stream",
     "text": [
      "Model: \"sequential\"\n",
      "_________________________________________________________________\n",
      "Layer (type)                 Output Shape              Param #   \n",
      "=================================================================\n",
      "conv2d (Conv2D)              (None, 32, 32, 32)        896       \n",
      "_________________________________________________________________\n",
      "activation (Activation)      (None, 32, 32, 32)        0         \n",
      "_________________________________________________________________\n",
      "conv2d_1 (Conv2D)            (None, 30, 30, 32)        9248      \n",
      "_________________________________________________________________\n",
      "activation_1 (Activation)    (None, 30, 30, 32)        0         \n",
      "_________________________________________________________________\n",
      "max_pooling2d (MaxPooling2D) (None, 15, 15, 32)        0         \n",
      "_________________________________________________________________\n",
      "dropout (Dropout)            (None, 15, 15, 32)        0         \n",
      "_________________________________________________________________\n",
      "conv2d_2 (Conv2D)            (None, 15, 15, 64)        18496     \n",
      "_________________________________________________________________\n",
      "activation_2 (Activation)    (None, 15, 15, 64)        0         \n",
      "_________________________________________________________________\n",
      "conv2d_3 (Conv2D)            (None, 13, 13, 64)        36928     \n",
      "_________________________________________________________________\n",
      "activation_3 (Activation)    (None, 13, 13, 64)        0         \n",
      "_________________________________________________________________\n",
      "max_pooling2d_1 (MaxPooling2 (None, 6, 6, 64)          0         \n",
      "_________________________________________________________________\n",
      "dropout_1 (Dropout)          (None, 6, 6, 64)          0         \n",
      "_________________________________________________________________\n",
      "flatten (Flatten)            (None, 2304)              0         \n",
      "_________________________________________________________________\n",
      "dense (Dense)                (None, 512)               1180160   \n",
      "_________________________________________________________________\n",
      "activation_4 (Activation)    (None, 512)               0         \n",
      "_________________________________________________________________\n",
      "dropout_2 (Dropout)          (None, 512)               0         \n",
      "_________________________________________________________________\n",
      "dense_1 (Dense)              (None, 10)                5130      \n",
      "_________________________________________________________________\n",
      "activation_5 (Activation)    (None, 10)                0         \n",
      "=================================================================\n",
      "Total params: 1,250,858\n",
      "Trainable params: 1,250,858\n",
      "Non-trainable params: 0\n",
      "_________________________________________________________________\n"
     ]
    }
   ],
   "source": [
    "# 輸出模型摘要資訊\n",
    "model.summary()"
   ]
  },
  {
   "cell_type": "code",
   "execution_count": 8,
   "metadata": {},
   "outputs": [],
   "source": [
    "#第三步編譯\n",
    "'''\n",
    "SGD(隨機梯度下降) - Arguments\n",
    "lr: float >= 0. Learning rate.\n",
    "momentum: float >= 0. Parameter that accelerates SGD in the relevant direction and dampens oscillations.\n",
    "decay: float >= 0. Learning rate decay over each update.\n",
    "nesterov: boolean. Whether to apply Nesterov momentum.\n",
    "'''\n",
    "\n",
    "'''\n",
    "RMSprop- Arguments\n",
    "lr: float >= 0. Learning rate.\n",
    "rho: float >= 0.\n",
    "epsilon: float >= 0. Fuzz factor. If None, defaults to K.epsilon().\n",
    "decay: float >= 0. Learning rate decay over each update.\n",
    "'''\n",
    "\n",
    "'''\n",
    "Example:\n",
    "opt = optimizers.SGD(lr=0.01, decay=1e-6, momentum=0.9, nesterov=True)\n",
    "\n",
    "'''\n",
    "\n",
    "opt = optimizers.SGD(lr=0.01, decay=1e-6, momentum=0.9, nesterov=True)\n",
    "\n",
    "model.compile(optimizer = opt, loss = 'categorical_crossentropy', metrics = ['accuracy'])\n"
   ]
  },
  {
   "cell_type": "code",
   "execution_count": 9,
   "metadata": {},
   "outputs": [],
   "source": [
    "# 資料正規化\n",
    "x_train = x_train.astype('float32')\n",
    "x_test = x_test.astype('float32')\n",
    "x_train /= 255\n",
    "x_test /= 255\n"
   ]
  },
  {
   "cell_type": "code",
   "execution_count": 10,
   "metadata": {},
   "outputs": [
    {
     "name": "stdout",
     "output_type": "stream",
     "text": [
      "Using real-time data augmentation.\n",
      "\n"
     ]
    },
    {
     "name": "stderr",
     "output_type": "stream",
     "text": [
      "WARNING: Logging before flag parsing goes to stderr.\n",
      "W0717 09:40:36.834426 139959364708160 deprecation.py:323] From /usr/local/lib/python3.6/dist-packages/tensorflow/python/ops/math_grad.py:1250: add_dispatch_support.<locals>.wrapper (from tensorflow.python.ops.array_ops) is deprecated and will be removed in a future version.\n",
      "Instructions for updating:\n",
      "Use tf.where in 2.0, which has the same broadcast rule as np.where\n"
     ]
    },
    {
     "name": "stdout",
     "output_type": "stream",
     "text": [
      "Train on 50000 samples, validate on 10000 samples\n",
      "Epoch 1/20\n",
      "50000/50000 [==============================] - 61s 1ms/sample - loss: 1.8415 - accuracy: 0.3227 - val_loss: 1.4657 - val_accuracy: 0.4693\n",
      "Epoch 2/20\n",
      "50000/50000 [==============================] - 59s 1ms/sample - loss: 1.3706 - accuracy: 0.5053 - val_loss: 1.1745 - val_accuracy: 0.5678\n",
      "Epoch 3/20\n",
      "50000/50000 [==============================] - 59s 1ms/sample - loss: 1.1671 - accuracy: 0.5841 - val_loss: 1.0385 - val_accuracy: 0.6295\n",
      "Epoch 4/20\n",
      "50000/50000 [==============================] - 60s 1ms/sample - loss: 1.0335 - accuracy: 0.6331 - val_loss: 0.9115 - val_accuracy: 0.6842\n",
      "Epoch 5/20\n",
      "50000/50000 [==============================] - 60s 1ms/sample - loss: 0.9298 - accuracy: 0.6712 - val_loss: 0.8239 - val_accuracy: 0.7118\n",
      "Epoch 6/20\n",
      "50000/50000 [==============================] - 60s 1ms/sample - loss: 0.8633 - accuracy: 0.6938 - val_loss: 0.7968 - val_accuracy: 0.7237\n",
      "Epoch 7/20\n",
      "50000/50000 [==============================] - 60s 1ms/sample - loss: 0.8079 - accuracy: 0.7144 - val_loss: 0.7851 - val_accuracy: 0.7339\n",
      "Epoch 8/20\n",
      "50000/50000 [==============================] - 60s 1ms/sample - loss: 0.7614 - accuracy: 0.7309 - val_loss: 0.6932 - val_accuracy: 0.7624\n",
      "Epoch 9/20\n",
      "50000/50000 [==============================] - 60s 1ms/sample - loss: 0.7274 - accuracy: 0.7437 - val_loss: 0.7526 - val_accuracy: 0.7417\n",
      "Epoch 10/20\n",
      "50000/50000 [==============================] - 60s 1ms/sample - loss: 0.6916 - accuracy: 0.7570 - val_loss: 0.6936 - val_accuracy: 0.7617\n",
      "Epoch 11/20\n",
      "50000/50000 [==============================] - 60s 1ms/sample - loss: 0.6638 - accuracy: 0.7674 - val_loss: 0.6599 - val_accuracy: 0.7687\n",
      "Epoch 12/20\n",
      "50000/50000 [==============================] - 60s 1ms/sample - loss: 0.6353 - accuracy: 0.7789 - val_loss: 0.6506 - val_accuracy: 0.7724\n",
      "Epoch 13/20\n",
      "50000/50000 [==============================] - 61s 1ms/sample - loss: 0.6146 - accuracy: 0.7844 - val_loss: 0.6490 - val_accuracy: 0.7749\n",
      "Epoch 14/20\n",
      "50000/50000 [==============================] - 61s 1ms/sample - loss: 0.5841 - accuracy: 0.7945 - val_loss: 0.6362 - val_accuracy: 0.7792\n",
      "Epoch 15/20\n",
      "50000/50000 [==============================] - 60s 1ms/sample - loss: 0.5640 - accuracy: 0.8002 - val_loss: 0.6040 - val_accuracy: 0.7936\n",
      "Epoch 16/20\n",
      "50000/50000 [==============================] - 56s 1ms/sample - loss: 0.5471 - accuracy: 0.8045 - val_loss: 0.6267 - val_accuracy: 0.7876\n",
      "Epoch 17/20\n",
      "50000/50000 [==============================] - 56s 1ms/sample - loss: 0.5394 - accuracy: 0.8100 - val_loss: 0.6079 - val_accuracy: 0.7899\n",
      "Epoch 18/20\n",
      "50000/50000 [==============================] - 56s 1ms/sample - loss: 0.5133 - accuracy: 0.8193 - val_loss: 0.6244 - val_accuracy: 0.7889\n",
      "Epoch 19/20\n",
      "50000/50000 [==============================] - 56s 1ms/sample - loss: 0.5080 - accuracy: 0.8212 - val_loss: 0.6052 - val_accuracy: 0.7951\n",
      "Epoch 20/20\n",
      "50000/50000 [==============================] - 56s 1ms/sample - loss: 0.4905 - accuracy: 0.8256 - val_loss: 0.6020 - val_accuracy: 0.7971\n"
     ]
    },
    {
     "data": {
      "text/plain": [
       "'\\n   第四步：訓練\\n   .fit的一些參數\\n   batch_size：對總的樣本數進行分組，每組包含的樣本數量\\n   epochs ：訓練次數\\n   shuffle：是否把數據隨機打亂之後再進行訓練\\n   validation_split：拿出百分之多少用來做交叉驗證\\n   verbose：屏顯模式 - 0：不輸出, 1：輸出進度, 2：輸出每次的訓練結果\\n'"
      ]
     },
     "execution_count": 10,
     "metadata": {},
     "output_type": "execute_result"
    }
   ],
   "source": [
    "# 是否要做資料處理\n",
    "if not data_augmentation:\n",
    "    print('Not using data augmentation.')\n",
    "    history=model.fit(x_train, y_train,\n",
    "              batch_size=batch_size,\n",
    "              epochs=epochs,\n",
    "              validation_data=(x_test, y_test),\n",
    "              shuffle=True)\n",
    "else:\n",
    "    print('Using real-time data augmentation.')\n",
    "    print('')\n",
    "        \n",
    "    # This will do preprocessing and realtime data augmentation:\n",
    "    datagen = ImageDataGenerator(\n",
    "        featurewise_center=False,  # set input mean to 0 over the dataset\n",
    "        samplewise_center=False,  # set each sample mean to 0\n",
    "        featurewise_std_normalization=False,  # divide inputs by std of the dataset\n",
    "        samplewise_std_normalization=False,  # divide each input by its std\n",
    "        zca_whitening=False,  # apply ZCA whitening\n",
    "        zca_epsilon=1e-06,  # epsilon for ZCA whitening\n",
    "        rotation_range=0,  # randomly rotate images in the range (degrees, 0 to 180)\n",
    "        # randomly shift images horizontally (fraction of total width)\n",
    "        width_shift_range=0.1,\n",
    "        # randomly shift images vertically (fraction of total height)\n",
    "        height_shift_range=0.1,\n",
    "        shear_range=0.,  # set range for random shear\n",
    "        zoom_range=0.,  # set range for random zoom\n",
    "        channel_shift_range=0.,  # set range for random channel shifts\n",
    "        # set mode for filling points outside the input boundaries\n",
    "        fill_mode='nearest',\n",
    "        cval=0.,  # value used for fill_mode = \"constant\"\n",
    "        horizontal_flip=True,  # randomly flip images\n",
    "        vertical_flip=False,  # randomly flip images\n",
    "        # set rescaling factor (applied before any other transformation)\n",
    "        rescale=None,\n",
    "        # set function that will be applied on each input\n",
    "        preprocessing_function=None,\n",
    "        # image data format, either \"channels_first\" or \"channels_last\"\n",
    "        data_format=None,\n",
    "        # fraction of images reserved for validation (strictly between 0 and 1)\n",
    "        validation_split=0.0)\n",
    "\n",
    "    # Compute quantities required for feature-wise normalization\n",
    "    # (std, mean, and principal components if ZCA whitening is applied).\n",
    "    datagen.fit(x_train)\n",
    "    history=model.fit(x_train, y_train,\n",
    "              batch_size=batch_size,\n",
    "              epochs=epochs,\n",
    "              validation_data=(x_test, y_test),\n",
    "              shuffle=True)   \n",
    "\n",
    "'''\n",
    "   第四步：訓練\n",
    "   .fit的一些參數\n",
    "   batch_size：對總的樣本數進行分組，每組包含的樣本數量\n",
    "   epochs ：訓練次數\n",
    "   shuffle：是否把數據隨機打亂之後再進行訓練\n",
    "   validation_split：拿出百分之多少用來做交叉驗證\n",
    "   verbose：屏顯模式 - 0：不輸出, 1：輸出進度, 2：輸出每次的訓練結果\n",
    "''' \n",
    "    "
   ]
  },
  {
   "cell_type": "code",
   "execution_count": 11,
   "metadata": {},
   "outputs": [
    {
     "name": "stdout",
     "output_type": "stream",
     "text": [
      "Saved trained model at /tf/homework/saved_models/64_20_keras_cifar10_trained_model.h5 \n",
      "10000/10000 [==============================] - 2s 250us/sample - loss: 0.6020 - accuracy: 0.7971\n",
      "Test loss: 0.6019958617210388\n",
      "Test accuracy: 0.7971\n"
     ]
    }
   ],
   "source": [
    "# Save model and weights\n",
    "if not os.path.isdir(save_dir):\n",
    "    os.makedirs(save_dir)\n",
    "model_path = os.path.join(save_dir, \"%d_%d_%s\" % (batch_size, epochs, model_name))\n",
    "model.save(model_path)\n",
    "print('Saved trained model at %s ' % model_path)\n",
    "\n",
    "# Score trained model.\n",
    "scores = model.evaluate(x_test, y_test, verbose=1)\n",
    "print('Test loss:', scores[0])\n",
    "print('Test accuracy:', scores[1])"
   ]
  },
  {
   "cell_type": "code",
   "execution_count": 12,
   "metadata": {},
   "outputs": [
    {
     "name": "stdout",
     "output_type": "stream",
     "text": [
      " test set \n",
      "\n",
      " The test loss is %f  [0.6019958573579788, 0.7971]\n"
     ]
    }
   ],
   "source": [
    "#    第六步：輸出\n",
    "import numpy \n",
    "\n",
    "print ( \" test set \" )\n",
    "scores = model.evaluate(x_test,y_test,batch_size=200,verbose= 0)\n",
    "print ( \"\" )\n",
    "#print ( \" The test loss is %f \" % scores)\n",
    "print ( \" The test loss is %f \", scores)\n",
    "\n",
    "\n",
    "result = model.predict(x_test,batch_size=200,verbose= 0)\n",
    "\n",
    "result_max = numpy.argmax(result, axis = 1 )\n",
    "test_max = numpy.argmax(y_test, axis = 1 )\n",
    "\n",
    "result_bool = numpy.equal(result_max, test_max)\n",
    "true_num = numpy.sum(result_bool)\n"
   ]
  },
  {
   "cell_type": "code",
   "execution_count": 13,
   "metadata": {},
   "outputs": [
    {
     "name": "stdout",
     "output_type": "stream",
     "text": [
      "[[6.52075032e-05 5.01991417e-05 6.94558039e-05 ... 4.62835596e-05\n",
      "  4.45363257e-04 4.51385968e-05]\n",
      " [2.69950579e-05 2.69925105e-03 8.76089294e-14 ... 1.56443798e-15\n",
      "  9.97258782e-01 1.49646376e-05]\n",
      " [6.66142106e-02 1.76381264e-02 3.96487667e-06 ... 4.99269277e-07\n",
      "  9.12281871e-01 3.44911846e-03]\n",
      " ...\n",
      " [1.28199617e-05 1.07434334e-06 5.13941934e-03 ... 1.14979006e-01\n",
      "  3.89314810e-05 1.01660837e-04]\n",
      " [1.15432926e-02 5.42118609e-01 5.32866223e-03 ... 5.32446662e-04\n",
      "  1.34981301e-05 1.19272685e-02]\n",
      " [2.54179056e-09 3.60462882e-09 1.62206379e-06 ... 9.98990238e-01\n",
      "  6.97346833e-11 5.69943592e-10]]\n",
      "[3 8 8 ... 5 1 7] [3 8 8 ... 5 1 7]\n",
      "[ True  True  True ...  True  True  True] 7971\n"
     ]
    }
   ],
   "source": [
    "print(result)\n",
    "print(result_max, test_max)\n",
    "print(result_bool, true_num)"
   ]
  },
  {
   "cell_type": "code",
   "execution_count": 16,
   "metadata": {},
   "outputs": [
    {
     "data": {
      "text/plain": [
       "{'loss': [1.8415445626831055,\n",
       "  1.3706307182693482,\n",
       "  1.167144870071411,\n",
       "  1.0335446200561524,\n",
       "  0.9297680196380615,\n",
       "  0.8633226885032654,\n",
       "  0.807940330619812,\n",
       "  0.761401368932724,\n",
       "  0.727387668876648,\n",
       "  0.6915537647247314,\n",
       "  0.6637981965637207,\n",
       "  0.6353275075531006,\n",
       "  0.6146165711402893,\n",
       "  0.584092195186615,\n",
       "  0.5640074729347229,\n",
       "  0.5471321154785156,\n",
       "  0.5393731728363037,\n",
       "  0.5132943872261048,\n",
       "  0.5080058942985535,\n",
       "  0.4904594176483154],\n",
       " 'accuracy': [0.32274,\n",
       "  0.5053,\n",
       "  0.58408,\n",
       "  0.63314,\n",
       "  0.67122,\n",
       "  0.69378,\n",
       "  0.71436,\n",
       "  0.73088,\n",
       "  0.74366,\n",
       "  0.75702,\n",
       "  0.76744,\n",
       "  0.77888,\n",
       "  0.78436,\n",
       "  0.79446,\n",
       "  0.80022,\n",
       "  0.80446,\n",
       "  0.81002,\n",
       "  0.81932,\n",
       "  0.82116,\n",
       "  0.82562],\n",
       " 'val_loss': [1.4656833755493164,\n",
       "  1.1744992179870606,\n",
       "  1.0385367639541625,\n",
       "  0.911541466140747,\n",
       "  0.823906383228302,\n",
       "  0.7968306425094605,\n",
       "  0.785113431930542,\n",
       "  0.6931998989105225,\n",
       "  0.7525906825065612,\n",
       "  0.6936283194065094,\n",
       "  0.6598994062423706,\n",
       "  0.6505732130050659,\n",
       "  0.6489830534458161,\n",
       "  0.6361561841011047,\n",
       "  0.6039614287376404,\n",
       "  0.626681749868393,\n",
       "  0.6078955883979797,\n",
       "  0.6244299745082855,\n",
       "  0.6052311752319336,\n",
       "  0.6019958590507507],\n",
       " 'val_accuracy': [0.4693,\n",
       "  0.5678,\n",
       "  0.6295,\n",
       "  0.6842,\n",
       "  0.7118,\n",
       "  0.7237,\n",
       "  0.7339,\n",
       "  0.7624,\n",
       "  0.7417,\n",
       "  0.7617,\n",
       "  0.7687,\n",
       "  0.7724,\n",
       "  0.7749,\n",
       "  0.7792,\n",
       "  0.7936,\n",
       "  0.7876,\n",
       "  0.7899,\n",
       "  0.7889,\n",
       "  0.7951,\n",
       "  0.7971]}"
      ]
     },
     "execution_count": 16,
     "metadata": {},
     "output_type": "execute_result"
    }
   ],
   "source": [
    "history.history"
   ]
  },
  {
   "cell_type": "code",
   "execution_count": 18,
   "metadata": {},
   "outputs": [
    {
     "data": {
      "image/png": "[encoded data removed]",
      "text/plain": [
       "<Figure size 432x288 with 1 Axes>"
      ]
     },
     "metadata": {
      "needs_background": "light"
     },
     "output_type": "display_data"
    },
    {
     "data": {
      "image/png": "[encoded data removed]",
      "text/plain": [
       "<Figure size 432x288 with 1 Axes>"
      ]
     },
     "metadata": {
      "needs_background": "light"
     },
     "output_type": "display_data"
    }
   ],
   "source": [
    "import matplotlib.pyplot as plt\n",
    "%matplotlib inline\n",
    "\n",
    "# Plot training & validation accuracy values\n",
    "plt.plot(history.history['accuracy'])\n",
    "plt.plot(history.history['val_accuracy'])\n",
    "plt.title('Model accuracy')\n",
    "plt.ylabel('Accuracy')\n",
    "plt.xlabel('Epoch')\n",
    "plt.legend(['Train', 'Valiidation'], loc='upper left')\n",
    "plt.show()\n",
    "\n",
    "# Plot training & validation loss values\n",
    "plt.plot(history.history['loss'])\n",
    "plt.plot(history.history['val_loss'])\n",
    "plt.title('Model loss')\n",
    "plt.ylabel('Loss')\n",
    "plt.xlabel('Epoch')\n",
    "plt.legend(['Train', 'Valiidation'], loc='upper left')\n",
    "plt.show()"
   ]
  },
  {
   "cell_type": "code",
   "execution_count": null,
   "metadata": {},
   "outputs": [],
   "source": []
  },
  {
   "cell_type": "code",
   "execution_count": null,
   "metadata": {},
   "outputs": [],
   "source": []
  },
  {
   "cell_type": "code",
   "execution_count": null,
   "metadata": {},
   "outputs": [],
   "source": []
  }
 ],
 "metadata": {
  "kernelspec": {
   "display_name": "Python 3",
   "language": "python",
   "name": "python3"
  }
 },
 "nbformat": 4,
 "nbformat_minor": 2
}
