{
 "cells": [
  {
   "cell_type": "markdown",
   "metadata": {},
   "source": [
    "## 練習時間\n",
    "假設我們資料中類別的數量並不均衡，在評估準確率時可能會有所偏頗，試著切分出 y_test 中，0 類別與 1 類別的數量是一樣的 (亦即 y_test 的類別是均衡的)"
   ]
  },
  {
   "cell_type": "code",
   "execution_count": 3,
   "metadata": {},
   "outputs": [],
   "source": [
    "import numpy as np\n",
    "from sklearn.model_selection import train_test_split, KFold\n",
    "X = np.arange(1000).reshape(200, 5)\n",
    "y = np.zeros(200)\n",
    "y[:40] = 1"
   ]
  },
  {
   "cell_type": "code",
   "execution_count": 2,
   "metadata": {},
   "outputs": [
    {
     "data": {
      "text/plain": [
       "array([1., 1., 1., 1., 1., 1., 1., 1., 1., 1., 1., 1., 1., 1., 1., 1., 1.,\n",
       "       1., 1., 1., 1., 1., 1., 1., 1., 1., 1., 1., 1., 1., 1., 1., 1., 1.,\n",
       "       1., 1., 1., 1., 1., 1., 0., 0., 0., 0., 0., 0., 0., 0., 0., 0., 0.,\n",
       "       0., 0., 0., 0., 0., 0., 0., 0., 0., 0., 0., 0., 0., 0., 0., 0., 0.,\n",
       "       0., 0., 0., 0., 0., 0., 0., 0., 0., 0., 0., 0., 0., 0., 0., 0., 0.,\n",
       "       0., 0., 0., 0., 0., 0., 0., 0., 0., 0., 0., 0., 0., 0., 0., 0., 0.,\n",
       "       0., 0., 0., 0., 0., 0., 0., 0., 0., 0., 0., 0., 0., 0., 0., 0., 0.,\n",
       "       0., 0., 0., 0., 0., 0., 0., 0., 0., 0., 0., 0., 0., 0., 0., 0., 0.,\n",
       "       0., 0., 0., 0., 0., 0., 0., 0., 0., 0., 0., 0., 0., 0., 0., 0., 0.,\n",
       "       0., 0., 0., 0., 0., 0., 0., 0., 0., 0., 0., 0., 0., 0., 0., 0., 0.,\n",
       "       0., 0., 0., 0., 0., 0., 0., 0., 0., 0., 0., 0., 0., 0., 0., 0., 0.,\n",
       "       0., 0., 0., 0., 0., 0., 0., 0., 0., 0., 0., 0., 0.])"
      ]
     },
     "execution_count": 2,
     "metadata": {},
     "output_type": "execute_result"
    }
   ],
   "source": [
    "y"
   ]
  },
  {
   "cell_type": "markdown",
   "metadata": {},
   "source": [
    "可以看見 y 類別中，有 160 個 類別 0，40 個 類別 1 ，請試著使用 train_test_split 函數，切分出 y_test 中能各有 10 筆類別 0 與 10 筆類別 1 。(HINT: 參考函數中的 test_size，可針對不同類別各自作切分後再合併)"
   ]
  },
  {
   "cell_type": "code",
   "execution_count": 32,
   "metadata": {},
   "outputs": [
    {
     "name": "stdout",
     "output_type": "stream",
     "text": [
      "[[ 25  26  27  28  29]\n",
      " [155 156 157 158 159]\n",
      " [140 141 142 143 144]\n",
      " [ 85  86  87  88  89]\n",
      " [120 121 122 123 124]\n",
      " [ 40  41  42  43  44]\n",
      " [170 171 172 173 174]\n",
      " [185 186 187 188 189]\n",
      " [145 146 147 148 149]\n",
      " [ 15  16  17  18  19]]\n",
      "[1. 1. 1. 1. 1. 1. 1. 1. 1. 1.]\n",
      "[[110 111 112 113 114]\n",
      " [  0   1   2   3   4]\n",
      " [ 80  81  82  83  84]\n",
      " [105 106 107 108 109]\n",
      " [135 136 137 138 139]\n",
      " [ 60  61  62  63  64]\n",
      " [ 95  96  97  98  99]\n",
      " [165 166 167 168 169]\n",
      " [160 161 162 163 164]\n",
      " [115 116 117 118 119]\n",
      " [830 831 832 833 834]\n",
      " [295 296 297 298 299]\n",
      " [745 746 747 748 749]\n",
      " [400 401 402 403 404]\n",
      " [480 481 482 483 484]\n",
      " [945 946 947 948 949]\n",
      " [415 416 417 418 419]\n",
      " [925 926 927 928 929]\n",
      " [550 551 552 553 554]\n",
      " [220 221 222 223 224]]\n",
      "[1. 1. 1. 1. 1. 1. 1. 1. 1. 1. 0. 0. 0. 0. 0. 0. 0. 0. 0. 0.]\n"
     ]
    }
   ],
   "source": [
    "# Take 10 class 1 from 0 ~ 39\n",
    "X_train_1, X_test_1, Y_train_1, Y_test_1 = train_test_split(X[:40], y[:40], test_size=10)\n",
    "# Take 10 class 0 from 40 ~ 199\n",
    "X_train_2, X_test_2, Y_train_2, Y_test_2 = train_test_split(X[40:], y[40:], test_size=10)\n",
    "\n",
    "\n",
    "X_train = np.concatenate((X_train_1, X_train_2))\n",
    "Y_train = np.concatenate((Y_train_1, Y_train_2))\n",
    "print(X_train[:10])\n",
    "print(Y_train[:10])\n",
    "\n",
    "# testset 有平衡了，但是 Train set 沒有捏\n",
    "X_test = np.concatenate((X_test_1, X_test_2))\n",
    "Y_test = np.concatenate((Y_test_1, Y_test_2))\n",
    "print(X_test)\n",
    "print(Y_test)"
   ]
  }
 ],
 "metadata": {
  "kernelspec": {
   "display_name": "Python 3",
   "language": "python",
   "name": "python3"
  },
  "language_info": {
   "codemirror_mode": {
    "name": "ipython",
    "version": 3
   },
   "file_extension": ".py",
   "mimetype": "text/x-python",
   "name": "python",
   "nbconvert_exporter": "python",
   "pygments_lexer": "ipython3",
   "version": "3.7.3"
  }
 },
 "nbformat": 4,
 "nbformat_minor": 2
}
