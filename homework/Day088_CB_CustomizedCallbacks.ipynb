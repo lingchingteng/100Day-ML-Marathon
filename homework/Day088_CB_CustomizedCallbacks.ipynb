{
 "cells": [
  {
   "cell_type": "markdown",
   "metadata": {},
   "source": [
    "## 範例重點\n",
    "* 學習如何在 keras 中加入自定義的 callbacks\n",
    "* 知道 callback function 可以動作的時機"
   ]
  },
  {
   "cell_type": "code",
   "execution_count": 1,
   "metadata": {},
   "outputs": [
    {
     "name": "stderr",
     "output_type": "stream",
     "text": [
      "Using TensorFlow backend.\n"
     ]
    }
   ],
   "source": [
    "import os\n",
    "import keras\n",
    "\n",
    "# 本範例不需使用 GPU, 將 GPU 設定為 \"無\"\n",
    "os.environ[\"CUDA_VISIBLE_DEVICES\"] = \"\""
   ]
  },
  {
   "cell_type": "code",
   "execution_count": 2,
   "metadata": {},
   "outputs": [],
   "source": [
    "train, test = keras.datasets.cifar10.load_data()"
   ]
  },
  {
   "cell_type": "code",
   "execution_count": 3,
   "metadata": {},
   "outputs": [],
   "source": [
    "## 資料前處理\n",
    "def preproc_x(x, flatten=True):\n",
    "    x = x / 255.\n",
    "    if flatten:\n",
    "        x = x.reshape((len(x), -1))\n",
    "    return x\n",
    "\n",
    "def preproc_y(y, num_classes=10):\n",
    "    if y.shape[-1] == 1:\n",
    "        y = keras.utils.to_categorical(y, num_classes)\n",
    "    return y    "
   ]
  },
  {
   "cell_type": "code",
   "execution_count": 4,
   "metadata": {},
   "outputs": [],
   "source": [
    "x_train, y_train = train\n",
    "x_test, y_test = test\n",
    "\n",
    "# 資料前處理 - X 標準化\n",
    "x_train = preproc_x(x_train)\n",
    "x_test = preproc_x(x_test)\n",
    "\n",
    "# 資料前處理 -Y 轉成 onehot\n",
    "y_train = preproc_y(y_train)\n",
    "y_test = preproc_y(y_test)"
   ]
  },
  {
   "cell_type": "code",
   "execution_count": 21,
   "metadata": {},
   "outputs": [],
   "source": [
    "from keras.layers import BatchNormalization\n",
    "\n",
    "\"\"\"\n",
    "建立神經網路，並加入 BN layer\n",
    "\"\"\"\n",
    "def build_mlp(input_shape, output_units=10, num_neurons=[64, 32, 16]):\n",
    "    input_layer = keras.layers.Input(input_shape)\n",
    "    \n",
    "    for i, n_units in enumerate(num_neurons):\n",
    "        if i == 0:\n",
    "            x = keras.layers.Dense(units=n_units, \n",
    "                                   activation=\"relu\", \n",
    "                                   name=\"hidden_layer\"+str(i+1))(input_layer)\n",
    "            x = BatchNormalization()(x)\n",
    "        else:\n",
    "            x = keras.layers.Dense(units=n_units, \n",
    "                                   activation=\"relu\", \n",
    "                                   name=\"hidden_layer\"+str(i+1))(x)\n",
    "            x = BatchNormalization()(x)\n",
    "    \n",
    "    out = keras.layers.Dense(units=output_units, activation=\"softmax\", name=\"output\")(x)\n",
    "    \n",
    "    model = keras.models.Model(inputs=[input_layer], outputs=[out])\n",
    "    return model"
   ]
  },
  {
   "cell_type": "code",
   "execution_count": 6,
   "metadata": {},
   "outputs": [],
   "source": [
    "## 超參數設定\n",
    "LEARNING_RATE = 1e-3\n",
    "EPOCHS = 50\n",
    "BATCH_SIZE = 1024\n",
    "MOMENTUM = 0.95"
   ]
  },
  {
   "cell_type": "code",
   "execution_count": 25,
   "metadata": {},
   "outputs": [],
   "source": [
    "\"\"\"\n",
    "# 載入 Callbacks，撰寫一個 f1 score 的 callback function\n",
    "\"\"\"\n",
    "\n",
    "from keras.callbacks import Callback\n",
    "from sklearn.metrics import f1_score\n",
    "\n",
    "class f1sc(Callback):\n",
    "    def on_train_begin(self, epoch, logs = {}):\n",
    "        logs = logs or {}\n",
    "        print(logs)\n",
    "        record_items = [\"val_auc\", \"val_f1sc\", \"val_fp\", \"val_fn\", \"val_tp\", \"val_tn\"]\n",
    "        print(\"default marams metrics\", self.params['metrics'])\n",
    "        for i in record_items:\n",
    "            if i not in self.params['metrics']:\n",
    "                self.params['metrics'].append(i)\n",
    "    \n",
    "    def on_epoch_end(self, epoch, logs = {}, thres=0.5):\n",
    "        logs = logs or {}\n",
    "        print(self.params['metrics'])\n",
    "        y_true = self.validation_data[1].argmax(axis = 1)\n",
    "        y_pred = self.model.predict(self.validation_data[0])\n",
    "        y_pred = (y_pred[:, 1] >= thres) * 1\n",
    "        \n",
    "        logs[\"val_f1sc\"] = f1_score(y_true = y_true, y_pred = y_pred, average=\"weighted\")\n",
    "        logs[\"hello\"] = 10\n",
    "        print(\"validation f1-score:\", logs[\"val_f1sc\"])\n",
    "        \n",
    "log_f1sc = f1sc()"
   ]
  },
  {
   "cell_type": "code",
   "execution_count": 26,
   "metadata": {
    "scrolled": true
   },
   "outputs": [
    {
     "name": "stdout",
     "output_type": "stream",
     "text": [
      "_________________________________________________________________\n",
      "Layer (type)                 Output Shape              Param #   \n",
      "=================================================================\n",
      "input_6 (InputLayer)         (None, 3072)              0         \n",
      "_________________________________________________________________\n",
      "hidden_layer1 (Dense)        (None, 64)                196672    \n",
      "_________________________________________________________________\n",
      "batch_normalization_16 (Batc (None, 64)                256       \n",
      "_________________________________________________________________\n",
      "hidden_layer2 (Dense)        (None, 32)                2080      \n",
      "_________________________________________________________________\n",
      "batch_normalization_17 (Batc (None, 32)                128       \n",
      "_________________________________________________________________\n",
      "hidden_layer3 (Dense)        (None, 16)                528       \n",
      "_________________________________________________________________\n",
      "batch_normalization_18 (Batc (None, 16)                64        \n",
      "_________________________________________________________________\n",
      "output (Dense)               (None, 10)                170       \n",
      "=================================================================\n",
      "Total params: 199,898\n",
      "Trainable params: 199,674\n",
      "Non-trainable params: 224\n",
      "_________________________________________________________________\n",
      "Train on 50000 samples, validate on 10000 samples\n",
      "{}\n",
      "default marams metrics ['loss', 'acc', 'val_loss', 'val_acc']\n",
      "Epoch 1/50\n",
      "50000/50000 [==============================] - 6s 112us/step - loss: 2.3047 - acc: 0.2046 - val_loss: 2.6759 - val_acc: 0.2394\n",
      "['loss', 'acc', 'val_loss', 'val_acc', 'val_auc', 'val_f1sc', 'val_fp', 'val_fn', 'val_tp', 'val_tn']\n",
      "validation f1-score: 0.018383271424456983\n",
      "Epoch 2/50\n",
      "50000/50000 [==============================] - 3s 68us/step - loss: 1.9844 - acc: 0.3047 - val_loss: 2.0057 - val_acc: 0.3025\n",
      "['loss', 'acc', 'val_loss', 'val_acc', 'val_auc', 'val_f1sc', 'val_fp', 'val_fn', 'val_tp', 'val_tn']\n",
      "validation f1-score: 0.02017652918683393\n",
      "Epoch 3/50\n",
      "50000/50000 [==============================] - 3s 60us/step - loss: 1.8898 - acc: 0.3461 - val_loss: 1.9363 - val_acc: 0.3367\n",
      "['loss', 'acc', 'val_loss', 'val_acc', 'val_auc', 'val_f1sc', 'val_fp', 'val_fn', 'val_tp', 'val_tn']\n",
      "validation f1-score: 0.023814269578670614\n",
      "Epoch 4/50\n",
      "50000/50000 [==============================] - 4s 71us/step - loss: 1.8308 - acc: 0.3673 - val_loss: 1.8443 - val_acc: 0.3607\n",
      "['loss', 'acc', 'val_loss', 'val_acc', 'val_auc', 'val_f1sc', 'val_fp', 'val_fn', 'val_tp', 'val_tn']\n",
      "validation f1-score: 0.030461458089715985\n",
      "Epoch 5/50\n",
      "50000/50000 [==============================] - 3s 68us/step - loss: 1.7868 - acc: 0.3816 - val_loss: 1.8133 - val_acc: 0.3695\n",
      "['loss', 'acc', 'val_loss', 'val_acc', 'val_auc', 'val_f1sc', 'val_fp', 'val_fn', 'val_tp', 'val_tn']\n",
      "validation f1-score: 0.041937803655609195\n",
      "Epoch 6/50\n",
      "50000/50000 [==============================] - 3s 58us/step - loss: 1.7512 - acc: 0.3929 - val_loss: 1.7904 - val_acc: 0.3787\n",
      "['loss', 'acc', 'val_loss', 'val_acc', 'val_auc', 'val_f1sc', 'val_fp', 'val_fn', 'val_tp', 'val_tn']\n",
      "validation f1-score: 0.038419165815186514\n",
      "Epoch 7/50\n",
      "50000/50000 [==============================] - 3s 51us/step - loss: 1.7212 - acc: 0.3995 - val_loss: 1.7722 - val_acc: 0.3820\n",
      "['loss', 'acc', 'val_loss', 'val_acc', 'val_auc', 'val_f1sc', 'val_fp', 'val_fn', 'val_tp', 'val_tn']\n",
      "validation f1-score: 0.04436836248633452\n",
      "Epoch 8/50\n",
      "50000/50000 [==============================] - 3s 52us/step - loss: 1.6968 - acc: 0.4115 - val_loss: 1.7285 - val_acc: 0.3968\n",
      "['loss', 'acc', 'val_loss', 'val_acc', 'val_auc', 'val_f1sc', 'val_fp', 'val_fn', 'val_tp', 'val_tn']\n",
      "validation f1-score: 0.05589771580296218\n",
      "Epoch 9/50\n",
      "50000/50000 [==============================] - 2s 50us/step - loss: 1.6719 - acc: 0.4179 - val_loss: 1.7147 - val_acc: 0.3986\n",
      "['loss', 'acc', 'val_loss', 'val_acc', 'val_auc', 'val_f1sc', 'val_fp', 'val_fn', 'val_tp', 'val_tn']\n",
      "validation f1-score: 0.06064604944795171\n",
      "Epoch 10/50\n",
      "50000/50000 [==============================] - 3s 55us/step - loss: 1.6513 - acc: 0.4252 - val_loss: 1.7130 - val_acc: 0.4009\n",
      "['loss', 'acc', 'val_loss', 'val_acc', 'val_auc', 'val_f1sc', 'val_fp', 'val_fn', 'val_tp', 'val_tn']\n",
      "validation f1-score: 0.046128919745543694\n",
      "Epoch 11/50\n",
      "50000/50000 [==============================] - 3s 53us/step - loss: 1.6316 - acc: 0.4311 - val_loss: 1.6867 - val_acc: 0.4121\n",
      "['loss', 'acc', 'val_loss', 'val_acc', 'val_auc', 'val_f1sc', 'val_fp', 'val_fn', 'val_tp', 'val_tn']\n",
      "validation f1-score: 0.05415268379582519\n",
      "Epoch 12/50\n",
      "50000/50000 [==============================] - 3s 54us/step - loss: 1.6131 - acc: 0.4380 - val_loss: 1.6814 - val_acc: 0.4172\n",
      "['loss', 'acc', 'val_loss', 'val_acc', 'val_auc', 'val_f1sc', 'val_fp', 'val_fn', 'val_tp', 'val_tn']\n",
      "validation f1-score: 0.056177895727536065\n",
      "Epoch 13/50\n",
      "50000/50000 [==============================] - 3s 51us/step - loss: 1.5985 - acc: 0.4420 - val_loss: 1.6596 - val_acc: 0.4219\n",
      "['loss', 'acc', 'val_loss', 'val_acc', 'val_auc', 'val_f1sc', 'val_fp', 'val_fn', 'val_tp', 'val_tn']\n",
      "validation f1-score: 0.058978472820491984\n",
      "Epoch 14/50\n",
      "50000/50000 [==============================] - 3s 52us/step - loss: 1.5822 - acc: 0.4475 - val_loss: 1.6467 - val_acc: 0.4274\n",
      "['loss', 'acc', 'val_loss', 'val_acc', 'val_auc', 'val_f1sc', 'val_fp', 'val_fn', 'val_tp', 'val_tn']\n",
      "validation f1-score: 0.06417017776034656\n",
      "Epoch 15/50\n",
      "50000/50000 [==============================] - 3s 53us/step - loss: 1.5681 - acc: 0.4496 - val_loss: 1.6392 - val_acc: 0.4276\n",
      "['loss', 'acc', 'val_loss', 'val_acc', 'val_auc', 'val_f1sc', 'val_fp', 'val_fn', 'val_tp', 'val_tn']\n",
      "validation f1-score: 0.06260959646209753\n",
      "Epoch 16/50\n",
      "50000/50000 [==============================] - 3s 52us/step - loss: 1.5548 - acc: 0.4563 - val_loss: 1.6306 - val_acc: 0.4301\n",
      "['loss', 'acc', 'val_loss', 'val_acc', 'val_auc', 'val_f1sc', 'val_fp', 'val_fn', 'val_tp', 'val_tn']\n",
      "validation f1-score: 0.06857767508311782\n",
      "Epoch 17/50\n",
      "50000/50000 [==============================] - 3s 50us/step - loss: 1.5421 - acc: 0.4586 - val_loss: 1.6174 - val_acc: 0.4333\n",
      "['loss', 'acc', 'val_loss', 'val_acc', 'val_auc', 'val_f1sc', 'val_fp', 'val_fn', 'val_tp', 'val_tn']\n",
      "validation f1-score: 0.06550671501751008\n",
      "Epoch 18/50\n",
      "50000/50000 [==============================] - 3s 55us/step - loss: 1.5300 - acc: 0.4620 - val_loss: 1.5988 - val_acc: 0.4373\n",
      "['loss', 'acc', 'val_loss', 'val_acc', 'val_auc', 'val_f1sc', 'val_fp', 'val_fn', 'val_tp', 'val_tn']\n",
      "validation f1-score: 0.07030451306520324\n",
      "Epoch 19/50\n",
      "50000/50000 [==============================] - 3s 53us/step - loss: 1.5187 - acc: 0.4658 - val_loss: 1.5995 - val_acc: 0.4374\n",
      "['loss', 'acc', 'val_loss', 'val_acc', 'val_auc', 'val_f1sc', 'val_fp', 'val_fn', 'val_tp', 'val_tn']\n",
      "validation f1-score: 0.0707697322161022\n",
      "Epoch 20/50\n",
      "50000/50000 [==============================] - 3s 53us/step - loss: 1.5072 - acc: 0.4718 - val_loss: 1.5904 - val_acc: 0.4442\n",
      "['loss', 'acc', 'val_loss', 'val_acc', 'val_auc', 'val_f1sc', 'val_fp', 'val_fn', 'val_tp', 'val_tn']\n",
      "validation f1-score: 0.06532635937670263\n",
      "Epoch 21/50\n",
      "50000/50000 [==============================] - 3s 53us/step - loss: 1.4984 - acc: 0.4742 - val_loss: 1.5828 - val_acc: 0.4465\n",
      "['loss', 'acc', 'val_loss', 'val_acc', 'val_auc', 'val_f1sc', 'val_fp', 'val_fn', 'val_tp', 'val_tn']\n",
      "validation f1-score: 0.06726753631498472\n",
      "Epoch 22/50\n",
      "50000/50000 [==============================] - 3s 66us/step - loss: 1.4865 - acc: 0.4771 - val_loss: 1.5910 - val_acc: 0.4428\n",
      "['loss', 'acc', 'val_loss', 'val_acc', 'val_auc', 'val_f1sc', 'val_fp', 'val_fn', 'val_tp', 'val_tn']\n",
      "validation f1-score: 0.06534956281187548\n",
      "Epoch 23/50\n",
      "50000/50000 [==============================] - 3s 55us/step - loss: 1.4768 - acc: 0.4800 - val_loss: 1.5728 - val_acc: 0.4461\n",
      "['loss', 'acc', 'val_loss', 'val_acc', 'val_auc', 'val_f1sc', 'val_fp', 'val_fn', 'val_tp', 'val_tn']\n",
      "validation f1-score: 0.07072017209248561\n",
      "Epoch 24/50\n",
      "50000/50000 [==============================] - 2s 50us/step - loss: 1.4669 - acc: 0.4838 - val_loss: 1.5781 - val_acc: 0.4430\n",
      "['loss', 'acc', 'val_loss', 'val_acc', 'val_auc', 'val_f1sc', 'val_fp', 'val_fn', 'val_tp', 'val_tn']\n"
     ]
    },
    {
     "name": "stdout",
     "output_type": "stream",
     "text": [
      "validation f1-score: 0.0731876665812179\n",
      "Epoch 25/50\n",
      "50000/50000 [==============================] - 3s 52us/step - loss: 1.4573 - acc: 0.4866 - val_loss: 1.5738 - val_acc: 0.4516\n",
      "['loss', 'acc', 'val_loss', 'val_acc', 'val_auc', 'val_f1sc', 'val_fp', 'val_fn', 'val_tp', 'val_tn']\n",
      "validation f1-score: 0.06906022842154705\n",
      "Epoch 26/50\n",
      "50000/50000 [==============================] - 3s 52us/step - loss: 1.4490 - acc: 0.4895 - val_loss: 1.5704 - val_acc: 0.4480\n",
      "['loss', 'acc', 'val_loss', 'val_acc', 'val_auc', 'val_f1sc', 'val_fp', 'val_fn', 'val_tp', 'val_tn']\n",
      "validation f1-score: 0.06782783051888928\n",
      "Epoch 27/50\n",
      "50000/50000 [==============================] - 2s 49us/step - loss: 1.4398 - acc: 0.4928 - val_loss: 1.5771 - val_acc: 0.4439\n",
      "['loss', 'acc', 'val_loss', 'val_acc', 'val_auc', 'val_f1sc', 'val_fp', 'val_fn', 'val_tp', 'val_tn']\n",
      "validation f1-score: 0.07405992137724884\n",
      "Epoch 28/50\n",
      "50000/50000 [==============================] - 3s 50us/step - loss: 1.4325 - acc: 0.4947 - val_loss: 1.5648 - val_acc: 0.4548\n",
      "['loss', 'acc', 'val_loss', 'val_acc', 'val_auc', 'val_f1sc', 'val_fp', 'val_fn', 'val_tp', 'val_tn']\n",
      "validation f1-score: 0.06531649771311973\n",
      "Epoch 29/50\n",
      "50000/50000 [==============================] - 2s 48us/step - loss: 1.4239 - acc: 0.4985 - val_loss: 1.5778 - val_acc: 0.4454\n",
      "['loss', 'acc', 'val_loss', 'val_acc', 'val_auc', 'val_f1sc', 'val_fp', 'val_fn', 'val_tp', 'val_tn']\n",
      "validation f1-score: 0.07156377770784728\n",
      "Epoch 30/50\n",
      "50000/50000 [==============================] - 2s 48us/step - loss: 1.4153 - acc: 0.5020 - val_loss: 1.5688 - val_acc: 0.4456\n",
      "['loss', 'acc', 'val_loss', 'val_acc', 'val_auc', 'val_f1sc', 'val_fp', 'val_fn', 'val_tp', 'val_tn']\n",
      "validation f1-score: 0.07548255955768762\n",
      "Epoch 31/50\n",
      "50000/50000 [==============================] - 2s 48us/step - loss: 1.4064 - acc: 0.5042 - val_loss: 1.5635 - val_acc: 0.4487\n",
      "['loss', 'acc', 'val_loss', 'val_acc', 'val_auc', 'val_f1sc', 'val_fp', 'val_fn', 'val_tp', 'val_tn']\n",
      "validation f1-score: 0.06745542621475993\n",
      "Epoch 32/50\n",
      "50000/50000 [==============================] - 2s 47us/step - loss: 1.3994 - acc: 0.5087 - val_loss: 1.5530 - val_acc: 0.4583\n",
      "['loss', 'acc', 'val_loss', 'val_acc', 'val_auc', 'val_f1sc', 'val_fp', 'val_fn', 'val_tp', 'val_tn']\n",
      "validation f1-score: 0.07556993613331642\n",
      "Epoch 33/50\n",
      "50000/50000 [==============================] - 2s 50us/step - loss: 1.3908 - acc: 0.5104 - val_loss: 1.5423 - val_acc: 0.4578\n",
      "['loss', 'acc', 'val_loss', 'val_acc', 'val_auc', 'val_f1sc', 'val_fp', 'val_fn', 'val_tp', 'val_tn']\n",
      "validation f1-score: 0.06964100229290644\n",
      "Epoch 34/50\n",
      "50000/50000 [==============================] - 2s 48us/step - loss: 1.3839 - acc: 0.5132 - val_loss: 1.5534 - val_acc: 0.4516\n",
      "['loss', 'acc', 'val_loss', 'val_acc', 'val_auc', 'val_f1sc', 'val_fp', 'val_fn', 'val_tp', 'val_tn']\n",
      "validation f1-score: 0.06763779738123211\n",
      "Epoch 35/50\n",
      "50000/50000 [==============================] - 2s 47us/step - loss: 1.3774 - acc: 0.5148 - val_loss: 1.5680 - val_acc: 0.4483\n",
      "['loss', 'acc', 'val_loss', 'val_acc', 'val_auc', 'val_f1sc', 'val_fp', 'val_fn', 'val_tp', 'val_tn']\n",
      "validation f1-score: 0.066568185776679\n",
      "Epoch 36/50\n",
      "50000/50000 [==============================] - 2s 48us/step - loss: 1.3698 - acc: 0.5171 - val_loss: 1.5452 - val_acc: 0.4591\n",
      "['loss', 'acc', 'val_loss', 'val_acc', 'val_auc', 'val_f1sc', 'val_fp', 'val_fn', 'val_tp', 'val_tn']\n",
      "validation f1-score: 0.07237141350348897\n",
      "Epoch 37/50\n",
      "50000/50000 [==============================] - 3s 53us/step - loss: 1.3642 - acc: 0.5181 - val_loss: 1.5595 - val_acc: 0.4591\n",
      "['loss', 'acc', 'val_loss', 'val_acc', 'val_auc', 'val_f1sc', 'val_fp', 'val_fn', 'val_tp', 'val_tn']\n",
      "validation f1-score: 0.07025918322674539\n",
      "Epoch 38/50\n",
      "50000/50000 [==============================] - 3s 61us/step - loss: 1.3564 - acc: 0.5215 - val_loss: 1.5585 - val_acc: 0.4556\n",
      "['loss', 'acc', 'val_loss', 'val_acc', 'val_auc', 'val_f1sc', 'val_fp', 'val_fn', 'val_tp', 'val_tn']\n",
      "validation f1-score: 0.07332618128854554\n",
      "Epoch 39/50\n",
      "50000/50000 [==============================] - 3s 65us/step - loss: 1.3512 - acc: 0.5235 - val_loss: 1.5425 - val_acc: 0.4629\n",
      "['loss', 'acc', 'val_loss', 'val_acc', 'val_auc', 'val_f1sc', 'val_fp', 'val_fn', 'val_tp', 'val_tn']\n",
      "validation f1-score: 0.0708994708994709\n",
      "Epoch 40/50\n",
      "50000/50000 [==============================] - 3s 65us/step - loss: 1.3448 - acc: 0.5255 - val_loss: 1.5550 - val_acc: 0.4564\n",
      "['loss', 'acc', 'val_loss', 'val_acc', 'val_auc', 'val_f1sc', 'val_fp', 'val_fn', 'val_tp', 'val_tn']\n",
      "validation f1-score: 0.06913353374579909\n",
      "Epoch 41/50\n",
      "50000/50000 [==============================] - 4s 77us/step - loss: 1.3367 - acc: 0.5291 - val_loss: 1.5358 - val_acc: 0.4642\n",
      "['loss', 'acc', 'val_loss', 'val_acc', 'val_auc', 'val_f1sc', 'val_fp', 'val_fn', 'val_tp', 'val_tn']\n",
      "validation f1-score: 0.0750473226191207\n",
      "Epoch 42/50\n",
      "50000/50000 [==============================] - 4s 87us/step - loss: 1.3315 - acc: 0.5307 - val_loss: 1.5351 - val_acc: 0.4630\n",
      "['loss', 'acc', 'val_loss', 'val_acc', 'val_auc', 'val_f1sc', 'val_fp', 'val_fn', 'val_tp', 'val_tn']\n",
      "validation f1-score: 0.07297560891359967\n",
      "Epoch 43/50\n",
      "50000/50000 [==============================] - 5s 95us/step - loss: 1.3245 - acc: 0.5337 - val_loss: 1.5343 - val_acc: 0.4648\n",
      "['loss', 'acc', 'val_loss', 'val_acc', 'val_auc', 'val_f1sc', 'val_fp', 'val_fn', 'val_tp', 'val_tn']\n",
      "validation f1-score: 0.07038671266999239\n",
      "Epoch 44/50\n",
      "50000/50000 [==============================] - 5s 94us/step - loss: 1.3182 - acc: 0.5351 - val_loss: 1.5308 - val_acc: 0.4660\n",
      "['loss', 'acc', 'val_loss', 'val_acc', 'val_auc', 'val_f1sc', 'val_fp', 'val_fn', 'val_tp', 'val_tn']\n",
      "validation f1-score: 0.07576043171142355\n",
      "Epoch 45/50\n",
      "50000/50000 [==============================] - 5s 96us/step - loss: 1.3121 - acc: 0.5385 - val_loss: 1.5330 - val_acc: 0.4646\n",
      "['loss', 'acc', 'val_loss', 'val_acc', 'val_auc', 'val_f1sc', 'val_fp', 'val_fn', 'val_tp', 'val_tn']\n",
      "validation f1-score: 0.07703074517978113\n",
      "Epoch 46/50\n",
      "50000/50000 [==============================] - 5s 107us/step - loss: 1.3060 - acc: 0.5396 - val_loss: 1.5441 - val_acc: 0.4642\n",
      "['loss', 'acc', 'val_loss', 'val_acc', 'val_auc', 'val_f1sc', 'val_fp', 'val_fn', 'val_tp', 'val_tn']\n",
      "validation f1-score: 0.07663611381762807\n",
      "Epoch 47/50\n",
      "50000/50000 [==============================] - 3s 64us/step - loss: 1.3016 - acc: 0.5404 - val_loss: 1.5493 - val_acc: 0.4641\n",
      "['loss', 'acc', 'val_loss', 'val_acc', 'val_auc', 'val_f1sc', 'val_fp', 'val_fn', 'val_tp', 'val_tn']\n",
      "validation f1-score: 0.07341380662540706\n",
      "Epoch 48/50\n",
      "50000/50000 [==============================] - 3s 69us/step - loss: 1.2955 - acc: 0.5422 - val_loss: 1.5397 - val_acc: 0.4624\n",
      "['loss', 'acc', 'val_loss', 'val_acc', 'val_auc', 'val_f1sc', 'val_fp', 'val_fn', 'val_tp', 'val_tn']\n",
      "validation f1-score: 0.0743516838072192\n",
      "Epoch 49/50\n",
      "50000/50000 [==============================] - 3s 63us/step - loss: 1.2901 - acc: 0.5434 - val_loss: 1.5581 - val_acc: 0.4582\n",
      "['loss', 'acc', 'val_loss', 'val_acc', 'val_auc', 'val_f1sc', 'val_fp', 'val_fn', 'val_tp', 'val_tn']\n",
      "validation f1-score: 0.0758185333925753\n",
      "Epoch 50/50\n",
      "50000/50000 [==============================] - 3s 68us/step - loss: 1.2830 - acc: 0.5465 - val_loss: 1.5383 - val_acc: 0.4599\n",
      "['loss', 'acc', 'val_loss', 'val_acc', 'val_auc', 'val_f1sc', 'val_fp', 'val_fn', 'val_tp', 'val_tn']\n",
      "validation f1-score: 0.07656132180753197\n"
     ]
    }
   ],
   "source": [
    "model = build_mlp(input_shape=x_train.shape[1:])\n",
    "model.summary()\n",
    "optimizer = keras.optimizers.SGD(lr=LEARNING_RATE, nesterov=True, momentum=MOMENTUM)\n",
    "model.compile(loss=\"categorical_crossentropy\", metrics=[\"accuracy\"], optimizer=optimizer)\n",
    "\n",
    "model.fit(x_train, y_train, \n",
    "          epochs=EPOCHS, \n",
    "          batch_size=BATCH_SIZE, \n",
    "          validation_data=(x_test, y_test), \n",
    "          shuffle=True,\n",
    "          callbacks=[log_f1sc]\n",
    "         )\n",
    "\n",
    "# Collect results\n",
    "train_loss = model.history.history[\"loss\"]\n",
    "valid_loss = model.history.history[\"val_loss\"]\n",
    "train_acc = model.history.history[\"acc\"]\n",
    "valid_acc = model.history.history[\"val_acc\"]\n",
    "\n",
    "# 在訓練後，將 f1sc 紀錄調出\n",
    "valid_f1sc = model.history.history['val_f1sc']"
   ]
  },
  {
   "cell_type": "code",
   "execution_count": 28,
   "metadata": {},
   "outputs": [
    {
     "name": "stdout",
     "output_type": "stream",
     "text": [
      "length of val_loss is 50\n",
      "length of val_acc is 50\n",
      "length of loss is 50\n",
      "length of acc is 50\n",
      "length of val_f1sc is 50\n",
      "length of hello is 50\n",
      "[10, 10, 10, 10, 10, 10, 10, 10, 10, 10, 10, 10, 10, 10, 10, 10, 10, 10, 10, 10, 10, 10, 10, 10, 10, 10, 10, 10, 10, 10, 10, 10, 10, 10, 10, 10, 10, 10, 10, 10, 10, 10, 10, 10, 10, 10, 10, 10, 10, 10]\n"
     ]
    }
   ],
   "source": [
    "for k in model.history.history.keys():\n",
    "    print(\"length of %s is %d\" % (k, len(model.history.history[k])))\n",
    "    \n",
    "print(model.history.history['hello'])"
   ]
  },
  {
   "cell_type": "code",
   "execution_count": 12,
   "metadata": {},
   "outputs": [
    {
     "data": {
      "image/png": "[encoded data removed]",
      "text/plain": [
       "<Figure size 432x288 with 1 Axes>"
      ]
     },
     "metadata": {
      "needs_background": "light"
     },
     "output_type": "display_data"
    },
    {
     "data": {
      "image/png": "[encoded data removed]",
      "text/plain": [
       "<Figure size 432x288 with 1 Axes>"
      ]
     },
     "metadata": {
      "needs_background": "light"
     },
     "output_type": "display_data"
    },
    {
     "data": {
      "image/png": "[encoded data removed]",
      "text/plain": [
       "<Figure size 432x288 with 1 Axes>"
      ]
     },
     "metadata": {
      "needs_background": "light"
     },
     "output_type": "display_data"
    }
   ],
   "source": [
    "import matplotlib.pyplot as plt\n",
    "%matplotlib inline\n",
    "\n",
    "plt.plot(range(len(train_loss)), train_loss, label=\"train loss\")\n",
    "plt.plot(range(len(valid_loss)), valid_loss, label=\"valid loss\")\n",
    "plt.legend()\n",
    "plt.title(\"Loss\")\n",
    "plt.show()\n",
    "\n",
    "plt.plot(range(len(train_acc)), train_acc, label=\"train accuracy\")\n",
    "plt.plot(range(len(valid_acc)), valid_acc, label=\"valid accuracy\")\n",
    "plt.legend()\n",
    "plt.title(\"Accuracy\")\n",
    "plt.show()\n",
    "\n",
    "plt.plot(range(len(valid_f1sc)), valid_f1sc, label=\"valid f1-score\")\n",
    "plt.legend()\n",
    "plt.title(\"F1-score\")\n",
    "plt.show()\n"
   ]
  },
  {
   "cell_type": "markdown",
   "metadata": {},
   "source": [
    "## Work\n",
    "1. 請嘗試寫一個 callback 用來記錄各類別在訓練過程中，對驗證集的 True Positive 與 True Negative"
   ]
  }
 ],
 "metadata": {
  "kernelspec": {
   "display_name": "Python 3",
   "language": "python",
   "name": "python3"
  },
  "language_info": {
   "codemirror_mode": {
    "name": "ipython",
    "version": 3
   },
   "file_extension": ".py",
   "mimetype": "text/x-python",
   "name": "python",
   "nbconvert_exporter": "python",
   "pygments_lexer": "ipython3",
   "version": "3.7.3"
  }
 },
 "nbformat": 4,
 "nbformat_minor": 2
}
