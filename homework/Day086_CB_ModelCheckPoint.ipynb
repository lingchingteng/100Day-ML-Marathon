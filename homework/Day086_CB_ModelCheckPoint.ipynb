{
 "cells": [
  {
   "cell_type": "markdown",
   "metadata": {},
   "source": [
    "## 範例重點\n",
    "* 學習如何在 keras 中加入 model checkpoint\n",
    "* 知道如何設定監控目標\n",
    "* 比較使用最佳與非最佳參數時的 performance"
   ]
  },
  {
   "cell_type": "code",
   "execution_count": 1,
   "metadata": {},
   "outputs": [
    {
     "name": "stderr",
     "output_type": "stream",
     "text": [
      "Using TensorFlow backend.\n"
     ]
    }
   ],
   "source": [
    "import os\n",
    "import keras\n",
    "\n",
    "# 本範例不需使用 GPU, 將 GPU 設定為 \"無\"\n",
    "os.environ[\"CUDA_VISIBLE_DEVICES\"] = \"\""
   ]
  },
  {
   "cell_type": "code",
   "execution_count": 2,
   "metadata": {},
   "outputs": [],
   "source": [
    "train, test = keras.datasets.cifar10.load_data()"
   ]
  },
  {
   "cell_type": "code",
   "execution_count": 3,
   "metadata": {},
   "outputs": [],
   "source": [
    "## 資料前處理\n",
    "def preproc_x(x, flatten=True):\n",
    "    x = x / 255.\n",
    "    if flatten:\n",
    "        x = x.reshape((len(x), -1))\n",
    "    return x\n",
    "\n",
    "def preproc_y(y, num_classes=10):\n",
    "    if y.shape[-1] == 1:\n",
    "        y = keras.utils.to_categorical(y, num_classes)\n",
    "    return y    "
   ]
  },
  {
   "cell_type": "code",
   "execution_count": 4,
   "metadata": {},
   "outputs": [],
   "source": [
    "x_train, y_train = train\n",
    "x_test, y_test = test\n",
    "\n",
    "# 資料前處理 - X 標準化\n",
    "x_train = preproc_x(x_train)\n",
    "x_test = preproc_x(x_test)\n",
    "\n",
    "# 資料前處理 -Y 轉成 onehot\n",
    "y_train = preproc_y(y_train)\n",
    "y_test = preproc_y(y_test)"
   ]
  },
  {
   "cell_type": "code",
   "execution_count": 5,
   "metadata": {},
   "outputs": [],
   "source": [
    "from keras.layers import BatchNormalization\n",
    "\n",
    "\"\"\"\n",
    "建立神經網路，並加入 BN layer\n",
    "\"\"\"\n",
    "def build_mlp(input_shape, output_units=10, num_neurons=[512, 256, 128]):\n",
    "    input_layer = keras.layers.Input(input_shape)\n",
    "    \n",
    "    for i, n_units in enumerate(num_neurons):\n",
    "        if i == 0:\n",
    "            x = keras.layers.Dense(units=n_units, \n",
    "                                   activation=\"relu\", \n",
    "                                   name=\"hidden_layer\"+str(i+1))(input_layer)\n",
    "            x = BatchNormalization()(x)\n",
    "        else:\n",
    "            x = keras.layers.Dense(units=n_units, \n",
    "                                   activation=\"relu\", \n",
    "                                   name=\"hidden_layer\"+str(i+1))(x)\n",
    "            x = BatchNormalization()(x)\n",
    "    \n",
    "    out = keras.layers.Dense(units=output_units, activation=\"softmax\", name=\"output\")(x)\n",
    "    \n",
    "    model = keras.models.Model(inputs=[input_layer], outputs=[out])\n",
    "    return model"
   ]
  },
  {
   "cell_type": "code",
   "execution_count": 6,
   "metadata": {},
   "outputs": [],
   "source": [
    "## 超參數設定\n",
    "LEARNING_RATE = 1e-3\n",
    "EPOCHS = 50\n",
    "BATCH_SIZE = 1024\n",
    "MOMENTUM = 0.95"
   ]
  },
  {
   "cell_type": "code",
   "execution_count": 9,
   "metadata": {},
   "outputs": [],
   "source": [
    "\"\"\"\n",
    "# 載入 Callbacks, 並將監控目標設為 validation loss, 且只存最佳參數時的模型\n",
    "\"\"\"\n",
    "from keras.callbacks import ModelCheckpoint\n",
    "\n",
    "model_ckpt = ModelCheckpoint(filepath=\"./Day_086_example_model.h5\", \n",
    "                             verbose=True,\n",
    "                             monitor=\"val_loss\", \n",
    "                             save_best_only=True)"
   ]
  },
  {
   "cell_type": "code",
   "execution_count": null,
   "metadata": {
    "scrolled": true
   },
   "outputs": [
    {
     "name": "stdout",
     "output_type": "stream",
     "text": [
      "_________________________________________________________________\n",
      "Layer (type)                 Output Shape              Param #   \n",
      "=================================================================\n",
      "input_3 (InputLayer)         (None, 3072)              0         \n",
      "_________________________________________________________________\n",
      "hidden_layer1 (Dense)        (None, 512)               1573376   \n",
      "_________________________________________________________________\n",
      "batch_normalization_7 (Batch (None, 512)               2048      \n",
      "_________________________________________________________________\n",
      "hidden_layer2 (Dense)        (None, 256)               131328    \n",
      "_________________________________________________________________\n",
      "batch_normalization_8 (Batch (None, 256)               1024      \n",
      "_________________________________________________________________\n",
      "hidden_layer3 (Dense)        (None, 128)               32896     \n",
      "_________________________________________________________________\n",
      "batch_normalization_9 (Batch (None, 128)               512       \n",
      "_________________________________________________________________\n",
      "output (Dense)               (None, 10)                1290      \n",
      "=================================================================\n",
      "Total params: 1,742,474\n",
      "Trainable params: 1,740,682\n",
      "Non-trainable params: 1,792\n",
      "_________________________________________________________________\n",
      "Train on 50000 samples, validate on 10000 samples\n",
      "Epoch 1/50\n",
      "50000/50000 [==============================] - 11s 211us/step - loss: 2.2112 - acc: 0.2681 - val_loss: 2.1402 - val_acc: 0.3137\n",
      "\n",
      "Epoch 00001: val_loss did not improve from 1.45889\n",
      "Epoch 2/50\n",
      "50000/50000 [==============================] - 11s 217us/step - loss: 1.7470 - acc: 0.3917 - val_loss: 1.8402 - val_acc: 0.3731\n",
      "\n",
      "Epoch 00002: val_loss did not improve from 1.45889\n",
      "Epoch 3/50\n",
      "50000/50000 [==============================] - 10s 210us/step - loss: 1.6149 - acc: 0.4367 - val_loss: 1.7300 - val_acc: 0.4082\n",
      "\n",
      "Epoch 00003: val_loss did not improve from 1.45889\n",
      "Epoch 4/50\n",
      "50000/50000 [==============================] - 10s 197us/step - loss: 1.5384 - acc: 0.4627 - val_loss: 1.6281 - val_acc: 0.4296\n",
      "\n",
      "Epoch 00004: val_loss did not improve from 1.45889\n",
      "Epoch 5/50\n",
      "50000/50000 [==============================] - 10s 201us/step - loss: 1.4828 - acc: 0.4823 - val_loss: 1.5938 - val_acc: 0.4482\n",
      "\n",
      "Epoch 00005: val_loss did not improve from 1.45889\n",
      "Epoch 6/50\n",
      "50000/50000 [==============================] - 13s 260us/step - loss: 1.4361 - acc: 0.4985 - val_loss: 1.5713 - val_acc: 0.4509\n",
      "\n",
      "Epoch 00006: val_loss did not improve from 1.45889\n",
      "Epoch 7/50\n",
      "50000/50000 [==============================] - 18s 359us/step - loss: 1.3947 - acc: 0.5116 - val_loss: 1.5409 - val_acc: 0.4614\n",
      "\n",
      "Epoch 00007: val_loss did not improve from 1.45889\n",
      "Epoch 8/50\n",
      "50000/50000 [==============================] - 16s 318us/step - loss: 1.3607 - acc: 0.5255 - val_loss: 1.5278 - val_acc: 0.4683\n",
      "\n",
      "Epoch 00008: val_loss did not improve from 1.45889\n",
      "Epoch 9/50\n",
      "50000/50000 [==============================] - 18s 358us/step - loss: 1.3281 - acc: 0.5357 - val_loss: 1.5065 - val_acc: 0.4730\n",
      "\n",
      "Epoch 00009: val_loss did not improve from 1.45889\n",
      "Epoch 10/50\n",
      "50000/50000 [==============================] - 19s 372us/step - loss: 1.2964 - acc: 0.5497 - val_loss: 1.5096 - val_acc: 0.4727\n",
      "\n",
      "Epoch 00010: val_loss did not improve from 1.45889\n",
      "Epoch 11/50\n",
      "50000/50000 [==============================] - 16s 328us/step - loss: 1.2670 - acc: 0.5612 - val_loss: 1.4923 - val_acc: 0.4767\n",
      "\n",
      "Epoch 00011: val_loss did not improve from 1.45889\n",
      "Epoch 12/50\n",
      "50000/50000 [==============================] - 13s 267us/step - loss: 1.2402 - acc: 0.5700 - val_loss: 1.4836 - val_acc: 0.4790\n",
      "\n",
      "Epoch 00012: val_loss did not improve from 1.45889\n",
      "Epoch 13/50\n",
      "50000/50000 [==============================] - 11s 227us/step - loss: 1.2149 - acc: 0.5791 - val_loss: 1.4775 - val_acc: 0.4814\n",
      "\n",
      "Epoch 00013: val_loss did not improve from 1.45889\n",
      "Epoch 14/50\n",
      "50000/50000 [==============================] - 11s 225us/step - loss: 1.1893 - acc: 0.5887 - val_loss: 1.4801 - val_acc: 0.4872\n",
      "\n",
      "Epoch 00014: val_loss did not improve from 1.45889\n",
      "Epoch 15/50\n",
      "50000/50000 [==============================] - 10s 195us/step - loss: 1.1665 - acc: 0.5967 - val_loss: 1.4711 - val_acc: 0.4849\n",
      "\n",
      "Epoch 00015: val_loss did not improve from 1.45889\n",
      "Epoch 16/50\n",
      "50000/50000 [==============================] - 10s 196us/step - loss: 1.1433 - acc: 0.6070 - val_loss: 1.4583 - val_acc: 0.4903\n",
      "\n",
      "Epoch 00016: val_loss improved from 1.45889 to 1.45825, saving model to ./Day_086_example_model.h5\n",
      "Epoch 17/50\n",
      "50000/50000 [==============================] - 10s 192us/step - loss: 1.1186 - acc: 0.6170 - val_loss: 1.4710 - val_acc: 0.4856\n",
      "\n",
      "Epoch 00017: val_loss did not improve from 1.45825\n",
      "Epoch 18/50\n",
      "50000/50000 [==============================] - 10s 196us/step - loss: 1.0958 - acc: 0.6250 - val_loss: 1.4650 - val_acc: 0.4896\n",
      "\n",
      "Epoch 00018: val_loss did not improve from 1.45825\n",
      "Epoch 19/50\n",
      "50000/50000 [==============================] - 9s 186us/step - loss: 1.0728 - acc: 0.6331 - val_loss: 1.4567 - val_acc: 0.4941\n",
      "\n",
      "Epoch 00019: val_loss improved from 1.45825 to 1.45667, saving model to ./Day_086_example_model.h5\n",
      "Epoch 20/50\n",
      "50000/50000 [==============================] - 8s 167us/step - loss: 1.0513 - acc: 0.6412 - val_loss: 1.4556 - val_acc: 0.4963\n",
      "\n",
      "Epoch 00020: val_loss improved from 1.45667 to 1.45560, saving model to ./Day_086_example_model.h5\n",
      "Epoch 21/50\n",
      "50000/50000 [==============================] - 8s 166us/step - loss: 1.0300 - acc: 0.6502 - val_loss: 1.4620 - val_acc: 0.4941\n",
      "\n",
      "Epoch 00021: val_loss did not improve from 1.45560\n",
      "Epoch 22/50\n",
      "50000/50000 [==============================] - 8s 170us/step - loss: 1.0077 - acc: 0.6588 - val_loss: 1.4569 - val_acc: 0.4898\n",
      "\n",
      "Epoch 00022: val_loss did not improve from 1.45560\n",
      "Epoch 23/50\n",
      "16384/50000 [========>.....................] - ETA: 5s - loss: 0.9830 - acc: 0.6695"
     ]
    }
   ],
   "source": [
    "model = build_mlp(input_shape=x_train.shape[1:])\n",
    "model.summary()\n",
    "optimizer = keras.optimizers.SGD(lr=LEARNING_RATE, nesterov=True, momentum=MOMENTUM)\n",
    "model.compile(loss=\"categorical_crossentropy\", metrics=[\"accuracy\"], optimizer=optimizer)\n",
    "\n",
    "model.fit(x_train, y_train, \n",
    "          epochs=EPOCHS, \n",
    "          batch_size=BATCH_SIZE, \n",
    "          validation_data=(x_test, y_test), \n",
    "          shuffle=True,\n",
    "          callbacks=[model_ckpt]\n",
    "         )\n",
    "\n",
    "# Collect results\n",
    "train_loss = model.history.history[\"loss\"]\n",
    "valid_loss = model.history.history[\"val_loss\"]\n",
    "train_acc = model.history.history[\"acc\"]\n",
    "valid_acc = model.history.history[\"val_acc\"]\n",
    "\n",
    "# Load back\n",
    "model = keras.models.load_model(\"./Day_086_example_model.h5\")\n",
    "loss_loadback, acc_loadback = model.evaluate(x_test, y_test)"
   ]
  },
  {
   "cell_type": "code",
   "execution_count": null,
   "metadata": {},
   "outputs": [],
   "source": [
    "import matplotlib.pyplot as plt\n",
    "%matplotlib inline\n",
    "\n",
    "plt.plot(range(len(train_loss)), train_loss, label=\"train loss\")\n",
    "plt.plot(range(len(valid_loss)), valid_loss, label=\"valid loss\")\n",
    "plt.hlines(y=loss_loadback, xmin=0, xmax=len(train_loss), colors='r', linestyles='--')\n",
    "plt.legend()\n",
    "plt.title(\"Loss\")\n",
    "plt.show()\n",
    "\n",
    "plt.plot(range(len(train_acc)), train_acc, label=\"train accuracy\")\n",
    "plt.plot(range(len(valid_acc)), valid_acc, label=\"valid accuracy\")\n",
    "plt.hlines(y=acc_loadback, xmin=0, xmax=len(train_loss), colors='r', linestyles='--')\n",
    "plt.legend()\n",
    "plt.title(\"Accuracy\")\n",
    "plt.show()"
   ]
  },
  {
   "cell_type": "markdown",
   "metadata": {},
   "source": [
    "## Work\n",
    "1. 試比較 save_best_only 與否的差異\n",
    "2. 請僅存入將 save_weights_only 設定為 True, 並嘗試 reset ipynb 並將模型與權重重新建回並預測 x_test"
   ]
  }
 ],
 "metadata": {
  "kernelspec": {
   "display_name": "Python 3",
   "language": "python",
   "name": "python3"
  },
  "language_info": {
   "codemirror_mode": {
    "name": "ipython",
    "version": 3
   },
   "file_extension": ".py",
   "mimetype": "text/x-python",
   "name": "python",
   "nbconvert_exporter": "python",
   "pygments_lexer": "ipython3",
   "version": "3.7.3"
  }
 },
 "nbformat": 4,
 "nbformat_minor": 2
}
