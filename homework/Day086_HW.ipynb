{
 "cells": [
  {
   "cell_type": "markdown",
   "metadata": {},
   "source": [
    "## Work\n",
    "1. 試比較 save_best_only 與否的差異\n",
    "2. 請僅存入將 save_weights_only 設定為 True, 並嘗試 reset ipynb 並將模型與權重重新建回並預測 x_test"
   ]
  },
  {
   "cell_type": "code",
   "execution_count": 1,
   "metadata": {},
   "outputs": [
    {
     "name": "stderr",
     "output_type": "stream",
     "text": [
      "Using TensorFlow backend.\n"
     ]
    }
   ],
   "source": [
    "import os\n",
    "import keras\n",
    "\n",
    "# Disable GPU\n",
    "os.environ[\"CUDA_VISIBLE_DEVICES\"] = \"\""
   ]
  },
  {
   "cell_type": "code",
   "execution_count": 2,
   "metadata": {},
   "outputs": [],
   "source": [
    "train, test = keras.datasets.cifar10.load_data()"
   ]
  },
  {
   "cell_type": "code",
   "execution_count": 3,
   "metadata": {},
   "outputs": [],
   "source": [
    "## 資料前處理\n",
    "def preproc_x(x, flatten=True):\n",
    "    x = x / 255.\n",
    "    if flatten:\n",
    "        x = x.reshape((len(x), -1))\n",
    "    return x\n",
    "\n",
    "def preproc_y(y, num_classes=10):\n",
    "    if y.shape[-1] == 1:\n",
    "        y = keras.utils.to_categorical(y, num_classes)\n",
    "    return y    "
   ]
  },
  {
   "cell_type": "code",
   "execution_count": 4,
   "metadata": {},
   "outputs": [],
   "source": [
    "x_train, y_train = train\n",
    "x_test, y_test = test\n",
    "\n",
    "# Preproc the inputs\n",
    "x_train = preproc_x(x_train)\n",
    "x_test = preproc_x(x_test)\n",
    "\n",
    "# Preprc the outputs\n",
    "y_train = preproc_y(y_train)\n",
    "y_test = preproc_y(y_test)"
   ]
  },
  {
   "cell_type": "code",
   "execution_count": 10,
   "metadata": {},
   "outputs": [],
   "source": [
    "\n",
    "def build_mlp(input_shape, output_units=10, num_neurons=[64, 32, 16]):\n",
    "    \"\"\"Code Here\n",
    "    建立你的神經網路\n",
    "    \"\"\"\n",
    "    input_layer = keras.layers.Input(input_shape)\n",
    "    \n",
    "    for idx, n in enumerate(num_neurons):\n",
    "        \n",
    "        if idx == 0:\n",
    "            x = keras.layers.Dense(units=n, activation=\"relu\", name=\"hidden_layer%d\" % (idx))(input_layer)\n",
    "        else:\n",
    "            x = keras.layers.Dense(units=n, activation=\"relu\", name=\"hidden_layer%d\" % (idx))(x)\n",
    "            \n",
    "    output_layer = keras.layers.Dense(units=output_units, activation=\"softmax\", name=\"output_layer\")(x)\n",
    "        \n",
    "    model = keras.models.Model(inputs=input_layer, outputs=output_layer)\n",
    "    \n",
    "    return model"
   ]
  },
  {
   "cell_type": "code",
   "execution_count": 14,
   "metadata": {},
   "outputs": [],
   "source": [
    "\"\"\"Code Here\n",
    "設定超參數\n",
    "\"\"\"\n",
    "LEARNING_RATE = 1e-3\n",
    "BATCH_SIZE=1024\n",
    "EPOCHS=20\n",
    "MOMENTUM=0.95"
   ]
  },
  {
   "cell_type": "code",
   "execution_count": 15,
   "metadata": {},
   "outputs": [
    {
     "name": "stdout",
     "output_type": "stream",
     "text": [
      "_________________________________________________________________\n",
      "Layer (type)                 Output Shape              Param #   \n",
      "=================================================================\n",
      "input_4 (InputLayer)         (None, 3072)              0         \n",
      "_________________________________________________________________\n",
      "hidden_layer0 (Dense)        (None, 64)                196672    \n",
      "_________________________________________________________________\n",
      "hidden_layer1 (Dense)        (None, 32)                2080      \n",
      "_________________________________________________________________\n",
      "hidden_layer2 (Dense)        (None, 16)                528       \n",
      "_________________________________________________________________\n",
      "output_layer (Dense)         (None, 10)                170       \n",
      "=================================================================\n",
      "Total params: 199,450\n",
      "Trainable params: 199,450\n",
      "Non-trainable params: 0\n",
      "_________________________________________________________________\n",
      "Train on 50000 samples, validate on 10000 samples\n",
      "Epoch 1/20\n",
      "50000/50000 [==============================] - 4s 79us/step - loss: 2.3020 - acc: 0.1185 - val_loss: 2.2766 - val_acc: 0.1276\n",
      "\n",
      "Epoch 00001: val_loss improved from inf to 2.27657, saving model to ./Day_086_HW_model.h5\n",
      "Epoch 2/20\n",
      "50000/50000 [==============================] - 3s 56us/step - loss: 2.2622 - acc: 0.1179 - val_loss: 2.2463 - val_acc: 0.1196\n",
      "\n",
      "Epoch 00002: val_loss improved from 2.27657 to 2.24635, saving model to ./Day_086_HW_model.h5\n",
      "Epoch 3/20\n",
      "50000/50000 [==============================] - 3s 63us/step - loss: 2.2312 - acc: 0.1418 - val_loss: 2.2109 - val_acc: 0.1710\n",
      "\n",
      "Epoch 00003: val_loss improved from 2.24635 to 2.21086, saving model to ./Day_086_HW_model.h5\n",
      "Epoch 4/20\n",
      "50000/50000 [==============================] - 4s 75us/step - loss: 2.1889 - acc: 0.1906 - val_loss: 2.1627 - val_acc: 0.2064\n",
      "\n",
      "Epoch 00004: val_loss improved from 2.21086 to 2.16272, saving model to ./Day_086_HW_model.h5\n",
      "Epoch 5/20\n",
      "50000/50000 [==============================] - 4s 72us/step - loss: 2.1367 - acc: 0.2148 - val_loss: 2.1066 - val_acc: 0.2210\n",
      "\n",
      "Epoch 00005: val_loss improved from 2.16272 to 2.10658, saving model to ./Day_086_HW_model.h5\n",
      "Epoch 6/20\n",
      "50000/50000 [==============================] - 4s 71us/step - loss: 2.0761 - acc: 0.2389 - val_loss: 2.0433 - val_acc: 0.2528\n",
      "\n",
      "Epoch 00006: val_loss improved from 2.10658 to 2.04334, saving model to ./Day_086_HW_model.h5\n",
      "Epoch 7/20\n",
      "50000/50000 [==============================] - 4s 78us/step - loss: 2.0130 - acc: 0.2717 - val_loss: 1.9845 - val_acc: 0.2844\n",
      "\n",
      "Epoch 00007: val_loss improved from 2.04334 to 1.98452, saving model to ./Day_086_HW_model.h5\n",
      "Epoch 8/20\n",
      "50000/50000 [==============================] - 3s 66us/step - loss: 1.9593 - acc: 0.2991 - val_loss: 1.9369 - val_acc: 0.3042\n",
      "\n",
      "Epoch 00008: val_loss improved from 1.98452 to 1.93690, saving model to ./Day_086_HW_model.h5\n",
      "Epoch 9/20\n",
      "50000/50000 [==============================] - 4s 81us/step - loss: 1.9155 - acc: 0.3187 - val_loss: 1.8967 - val_acc: 0.3247\n",
      "\n",
      "Epoch 00009: val_loss improved from 1.93690 to 1.89669, saving model to ./Day_086_HW_model.h5\n",
      "Epoch 10/20\n",
      "50000/50000 [==============================] - 4s 72us/step - loss: 1.8816 - acc: 0.3332 - val_loss: 1.8649 - val_acc: 0.3352\n",
      "\n",
      "Epoch 00010: val_loss improved from 1.89669 to 1.86487, saving model to ./Day_086_HW_model.h5\n",
      "Epoch 11/20\n",
      "50000/50000 [==============================] - 4s 77us/step - loss: 1.8552 - acc: 0.3406 - val_loss: 1.8432 - val_acc: 0.3431\n",
      "\n",
      "Epoch 00011: val_loss improved from 1.86487 to 1.84325, saving model to ./Day_086_HW_model.h5\n",
      "Epoch 12/20\n",
      "50000/50000 [==============================] - 3s 60us/step - loss: 1.8357 - acc: 0.3449 - val_loss: 1.8234 - val_acc: 0.3489\n",
      "\n",
      "Epoch 00012: val_loss improved from 1.84325 to 1.82339, saving model to ./Day_086_HW_model.h5\n",
      "Epoch 13/20\n",
      "50000/50000 [==============================] - 3s 59us/step - loss: 1.8191 - acc: 0.3513 - val_loss: 1.8074 - val_acc: 0.3532\n",
      "\n",
      "Epoch 00013: val_loss improved from 1.82339 to 1.80738, saving model to ./Day_086_HW_model.h5\n",
      "Epoch 14/20\n",
      "50000/50000 [==============================] - 3s 66us/step - loss: 1.8043 - acc: 0.3566 - val_loss: 1.7947 - val_acc: 0.3581\n",
      "\n",
      "Epoch 00014: val_loss improved from 1.80738 to 1.79471, saving model to ./Day_086_HW_model.h5\n",
      "Epoch 15/20\n",
      "50000/50000 [==============================] - 3s 67us/step - loss: 1.7920 - acc: 0.3608 - val_loss: 1.7815 - val_acc: 0.3644\n",
      "\n",
      "Epoch 00015: val_loss improved from 1.79471 to 1.78145, saving model to ./Day_086_HW_model.h5\n",
      "Epoch 16/20\n",
      "50000/50000 [==============================] - 3s 67us/step - loss: 1.7797 - acc: 0.3656 - val_loss: 1.7715 - val_acc: 0.3675\n",
      "\n",
      "Epoch 00016: val_loss improved from 1.78145 to 1.77152, saving model to ./Day_086_HW_model.h5\n",
      "Epoch 17/20\n",
      "50000/50000 [==============================] - 4s 74us/step - loss: 1.7688 - acc: 0.3693 - val_loss: 1.7600 - val_acc: 0.3698\n",
      "\n",
      "Epoch 00017: val_loss improved from 1.77152 to 1.76005, saving model to ./Day_086_HW_model.h5\n",
      "Epoch 18/20\n",
      "50000/50000 [==============================] - 4s 77us/step - loss: 1.7580 - acc: 0.3748 - val_loss: 1.7502 - val_acc: 0.3743\n",
      "\n",
      "Epoch 00018: val_loss improved from 1.76005 to 1.75016, saving model to ./Day_086_HW_model.h5\n",
      "Epoch 19/20\n",
      "50000/50000 [==============================] - 3s 67us/step - loss: 1.7472 - acc: 0.3791 - val_loss: 1.7413 - val_acc: 0.3795\n",
      "\n",
      "Epoch 00019: val_loss improved from 1.75016 to 1.74129, saving model to ./Day_086_HW_model.h5\n",
      "Epoch 20/20\n",
      "50000/50000 [==============================] - 3s 66us/step - loss: 1.7372 - acc: 0.3841 - val_loss: 1.7322 - val_acc: 0.3817\n",
      "\n",
      "Epoch 00020: val_loss improved from 1.74129 to 1.73218, saving model to ./Day_086_HW_model.h5\n",
      "10000/10000 [==============================] - 1s 73us/step\n"
     ]
    }
   ],
   "source": [
    "# 載入 Callbacks\n",
    "\"\"\"Code Here\n",
    "設定 callbacks: model checkpoint\n",
    "\"\"\"\n",
    "model_ckpt = keras.callbacks.ModelCheckpoint(\n",
    "    filepath=\"./Day_086_HW_model.h5\", \n",
    "    verbose=True,\n",
    "    monitor=\"val_loss\", \n",
    "    save_best_only=True)\n",
    "\n",
    "results = {}\n",
    "\"\"\"Code Here\n",
    "撰寫你的訓練流程並將結果用 dictionary 紀錄\n",
    "\"\"\"\n",
    "model = build_mlp(input_shape=x_train.shape[1:])\n",
    "model.summary()\n",
    "optimizer = keras.optimizers.SGD(lr=LEARNING_RATE, nesterov=True, momentum=MOMENTUM)\n",
    "model.compile(loss=\"categorical_crossentropy\", metrics=[\"accuracy\"], optimizer=optimizer)\n",
    "\n",
    "model.fit(x_train, y_train, \n",
    "          epochs=EPOCHS, \n",
    "          batch_size=BATCH_SIZE, \n",
    "          validation_data=(x_test, y_test), \n",
    "          shuffle=True,\n",
    "          callbacks=[model_ckpt]\n",
    "         )\n",
    "\n",
    "# Collect results\n",
    "train_loss = model.history.history[\"loss\"]\n",
    "valid_loss = model.history.history[\"val_loss\"]\n",
    "train_acc = model.history.history[\"acc\"]\n",
    "valid_acc = model.history.history[\"val_acc\"]\n",
    "\n",
    "# Load back\n",
    "model = keras.models.load_model(\"./Day_086_HW_model.h5\")\n",
    "loss_loadback, acc_loadback = model.evaluate(x_test, y_test) "
   ]
  },
  {
   "cell_type": "code",
   "execution_count": 17,
   "metadata": {},
   "outputs": [
    {
     "name": "stdout",
     "output_type": "stream",
     "text": [
      "10000/10000 [==============================] - 1s 65us/step\n",
      "1.7321756381988525 0.3817\n"
     ]
    }
   ],
   "source": [
    "# Load back\n",
    "model = keras.models.load_model(\"./Day_086_HW_model.h5\")\n",
    "loss_loadback, acc_loadback = model.evaluate(x_test, y_test) \n",
    "print(loss_loadback, acc_loadback)"
   ]
  },
  {
   "cell_type": "code",
   "execution_count": null,
   "metadata": {
    "scrolled": true
   },
   "outputs": [],
   "source": [
    "import matplotlib.pyplot as plt\n",
    "%matplotlib inline\n",
    "\"\"\"Code Here\n",
    "將結果繪出\n",
    "\"\"\""
   ]
  }
 ],
 "metadata": {
  "kernelspec": {
   "display_name": "Python 3",
   "language": "python",
   "name": "python3"
  },
  "language_info": {
   "codemirror_mode": {
    "name": "ipython",
    "version": 3
   },
   "file_extension": ".py",
   "mimetype": "text/x-python",
   "name": "python",
   "nbconvert_exporter": "python",
   "pygments_lexer": "ipython3",
   "version": "3.7.3"
  }
 },
 "nbformat": 4,
 "nbformat_minor": 2
}
