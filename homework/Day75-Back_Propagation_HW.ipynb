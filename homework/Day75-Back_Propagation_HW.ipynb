{
 "cells": [
  {
   "cell_type": "markdown",
   "metadata": {},
   "source": [
    "# 作業目標:\n",
    "\n",
    "    通過建立多層的神經網路, 了解權值矩陣更新"
   ]
  },
  {
   "cell_type": "markdown",
   "metadata": {},
   "source": [
    "# 作業重點: \n",
    "\n",
    "3  層神經網路\n",
    "\n",
    "通過增加更多的中間層，以對更多關係的組合進行建模\n",
    "\n",
    "syn1 權值矩陣將隱層的組合輸出映射到最終結果，\n",
    "\n",
    "而在更新 syn1 的同時，還需要更新 syn0 權值矩陣，\n",
    "\n",
    "以從輸入資料中更好地產生這些組合"
   ]
  },
  {
   "cell_type": "code",
   "execution_count": 14,
   "metadata": {},
   "outputs": [],
   "source": [
    "import numpy as np\n",
    " \n",
    "# Sigmoid 函數可以將任何值都映射到一個位於 0 到  1 範圍內的值。通過它，我們可以將實數轉化為概率值\n",
    "def nonlin(x,deriv=False):\n",
    "    if(deriv==True):\n",
    "        return x*(1-x)\n",
    "    return 1/(1+np.exp(-x))\n",
    "\n",
    "X = np.array([  [0,0,1],\n",
    "                [0,1,1],\n",
    "                [1,0,1],\n",
    "                [1,1,1] ])  \n",
    "        \n",
    "# define y for output dataset            \n",
    "y = np.array([\n",
    "    [0],\n",
    "    [0],\n",
    "    [1],\n",
    "    [1]\n",
    "])"
   ]
  },
  {
   "cell_type": "code",
   "execution_count": 20,
   "metadata": {},
   "outputs": [
    {
     "name": "stdout",
     "output_type": "stream",
     "text": [
      "[[-0.16595599  0.44064899 -0.99977125]\n",
      " [-0.39533485 -0.70648822 -0.81532281]\n",
      " [-0.62747958 -0.30887855 -0.20646505]]\n"
     ]
    }
   ],
   "source": [
    "\n",
    "# seed random numbers to make calculation\n",
    "# deterministic (just a good practice)\n",
    "np.random.seed(1)\n",
    "#亂數設定產生種子得到的權重初始化集仍是隨機分佈的，\n",
    "#但每次開始訓練時，得到的權重初始集分佈都是完全一致的。\n",
    " \n",
    "# initialize weights randomly with mean 0\n",
    "syn0 = 2*np.random.random((3,3)) - 1\n",
    "# define syn1\n",
    "syn1 = 2*np.random.random((3,1)) - 1\n",
    "\n",
    "iter = 0\n",
    "#該神經網路權重矩陣的初始化操作。\n",
    "#用 “syn0” 來代指 (即“輸入層-第一層隱層”間權重矩陣）\n",
    "#用 “syn1” 來代指 (即“輸入層-第二層隱層”間權重矩陣）\n",
    "print(syn0)\n"
   ]
  },
  {
   "cell_type": "markdown",
   "metadata": {},
   "source": [
    "神經網路訓練\n",
    "for 迴圈反覆運算式地多次執行訓練代碼，使得我們的網路能更好地擬合訓練集"
   ]
  },
  {
   "cell_type": "code",
   "execution_count": 23,
   "metadata": {},
   "outputs": [
    {
     "name": "stdout",
     "output_type": "stream",
     "text": [
      "Output After Training:\n",
      "[[5.54228463e-05 5.54103648e-05 5.70217151e-05]\n",
      " [5.45572855e-05 5.45458828e-05 5.60140636e-05]\n",
      " [1.08295769e-02 1.08295673e-02 1.08308578e-02]\n",
      " [1.06622412e-02 1.06624027e-02 1.06414879e-02]] \n",
      "\n",
      " [[-0.12572714 -0.12572713 -0.12572874]\n",
      " [-0.12571544 -0.12571543 -0.1257169 ]\n",
      " [-0.00012736 -0.00012735 -0.00012864]\n",
      " [ 0.00065565  0.00065549  0.0006764 ]]\n",
      "\n",
      "\n",
      "\n",
      "[[0.50270154]\n",
      " [0.50265774]\n",
      " [0.89036404]\n",
      " [0.88704378]] \n",
      "\n",
      " [[-0.50270154]\n",
      " [-0.50265774]\n",
      " [ 0.10963596]\n",
      " [ 0.11295622]]\n",
      "\n",
      "\n",
      "\n",
      "[[ 5.28588315  5.28610749  5.25756104]\n",
      " [-0.01574144 -0.01572524 -0.0178303 ]\n",
      " [-9.80047151 -9.80069675 -9.77202984]] \n",
      "\n",
      " [[68.64471064]\n",
      " [69.3452957 ]\n",
      " [55.40645921]]\n"
     ]
    }
   ],
   "source": [
    "for iter in range(100000):\n",
    "    # forward propagation\n",
    "    l0 = X  # 一個 4 x 3 的矩陣，其實是有四筆測試資料，每一筆測試資料都是 3 個 Input\n",
    "    l1 = nonlin(np.dot(l0,syn0))  # 把從 L0 來的每一筆測試資料乘上第一層的 weight 矩陣，得到一個 4 x 1 的矩陣。\n",
    "    # 這樣第二層不就只有 1 個？\n",
    "    l2 = nonlin(np.dot(l1, syn1))\n",
    "    \n",
    "    '''\n",
    "    新增\n",
    "    l2_error 該值說明了神經網路預測時“丟失”的數目。\n",
    "    l2_delta 該值為經確信度加權後的神經網路的誤差，除了確信誤差很小時，它近似等於預測誤差。\n",
    "    '''\n",
    " \n",
    "    l2_error = y - l2\n",
    "    l2_delta = l2_error * nonlin(l2, True)\n",
    "\n",
    "    # how much did we miss?\n",
    "    l1_error = l2_delta - l1\n",
    " \n",
    "    # multiply how much we missed by the \n",
    "    # slope of the sigmoid at the values in l1\n",
    "    l1_delta = l1_error * nonlin(l1,True)\n",
    "    \n",
    "    # update weights\n",
    "    syn0 += np.dot(l0.T, l1_delta)\n",
    "    # syn1 update weights\n",
    "    syn1 += np.dot(l1.T, l2_delta)\n",
    "    \n",
    "print(\"Output After Training:\")\n",
    "print(l1, \"\\n\\n\", l1_error)\n",
    "print(\"\\n\\n\")\n",
    "print(l2, \"\\n\\n\", l2_error)\n",
    "\n",
    "print(\"\\n\\n\")\n",
    "print(syn0, \"\\n\\n\", syn1)"
   ]
  },
  {
   "cell_type": "code",
   "execution_count": null,
   "metadata": {},
   "outputs": [],
   "source": []
  }
 ],
 "metadata": {
  "kernelspec": {
   "display_name": "Python 3",
   "language": "python",
   "name": "python3"
  },
  "language_info": {
   "codemirror_mode": {
    "name": "ipython",
    "version": 3
   },
   "file_extension": ".py",
   "mimetype": "text/x-python",
   "name": "python",
   "nbconvert_exporter": "python",
   "pygments_lexer": "ipython3",
   "version": "3.7.3"
  }
 },
 "nbformat": 4,
 "nbformat_minor": 2
}
