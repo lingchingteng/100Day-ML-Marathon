{
 "cells": [
  {
   "cell_type": "markdown",
   "metadata": {},
   "source": [
    "## 範例重點\n",
    "### 學習在模型開始前檢查各個環節\n",
    "1. 是否有 GPU 資源\n",
    "2. 將前處理轉為函式，統一處理訓練、驗證與測試集\n",
    "3. 將超參數變數化，易於重複使用函式、模型等"
   ]
  },
  {
   "cell_type": "code",
   "execution_count": 7,
   "metadata": {},
   "outputs": [
    {
     "name": "stdout",
     "output_type": "stream",
     "text": [
      "/bin/sh: nvidia-smi: command not found\r\n"
     ]
    }
   ],
   "source": [
    "## 確認硬體資源 (如果你是在 Linux, 若是在 Windows, 請參考 https://blog.csdn.net/idwtwt/article/details/78017565)\n",
    "!nvidia-smi"
   ]
  },
  {
   "cell_type": "code",
   "execution_count": 8,
   "metadata": {},
   "outputs": [],
   "source": [
    "import os\n",
    "import keras\n",
    "\n",
    "# 本範例不需使用 GPU, 將 GPU 設定為 \"無\"\n",
    "os.environ[\"CUDA_VISIBLE_DEVICES\"] = \"\""
   ]
  },
  {
   "cell_type": "code",
   "execution_count": 9,
   "metadata": {},
   "outputs": [],
   "source": [
    "# 從 Keras 的內建功能中，取得 train 與 test 資料集\n",
    "train, test = keras.datasets.cifar10.load_data()"
   ]
  },
  {
   "cell_type": "code",
   "execution_count": 10,
   "metadata": {},
   "outputs": [],
   "source": [
    "## 資料前處理\n",
    "def preproc_x(x, flatten=True):\n",
    "    x = x / 255.\n",
    "    if flatten:\n",
    "        x = x.reshape((len(x), -1))\n",
    "    return x\n",
    "\n",
    "def preproc_y(y, num_classes=10):\n",
    "    if y.shape[-1] == 1:\n",
    "        y = keras.utils.to_categorical(y, num_classes)\n",
    "    return y    "
   ]
  },
  {
   "cell_type": "code",
   "execution_count": 11,
   "metadata": {},
   "outputs": [],
   "source": [
    "x_train, y_train = train\n",
    "x_test, y_test = test\n",
    "\n",
    "# 資料前處理 - X 標準化\n",
    "x_train = preproc_x(x_train)\n",
    "x_test = preproc_x(x_test)\n",
    "\n",
    "# 資料前處理 -Y 轉成 onehot\n",
    "y_train = preproc_y(y_train)\n",
    "y_test = preproc_y(y_test)"
   ]
  },
  {
   "cell_type": "code",
   "execution_count": 19,
   "metadata": {},
   "outputs": [],
   "source": [
    "def build_mlp(input_shape, output_units=10, num_neurons=[512, 256, 128]):\n",
    "    input_layer = keras.layers.Input(input_shape)\n",
    "    \n",
    "    for i, n_units in enumerate(num_neurons):\n",
    "        if i == 0:\n",
    "            x = keras.layers.Dense(units=n_units, activation=\"relu\", name=\"hidden_layer\"+str(i+1))(input_layer)\n",
    "        else:\n",
    "            x = keras.layers.Dense(units=n_units, activation=\"relu\", name=\"hidden_layer\"+str(i+1))(x)\n",
    "    \n",
    "    output_layer = keras.layers.Dense(units=output_units, activation=\"softmax\", name=\"output\")(x)\n",
    "    \n",
    "    model = keras.models.Model(inputs=[input_layer], outputs=[output_layer])\n",
    "    \n",
    "    return model"
   ]
  },
  {
   "cell_type": "code",
   "execution_count": 13,
   "metadata": {},
   "outputs": [
    {
     "name": "stdout",
     "output_type": "stream",
     "text": [
      "WARNING:tensorflow:From /Users/ctling/anaconda3/lib/python3.7/site-packages/tensorflow/python/framework/op_def_library.py:263: colocate_with (from tensorflow.python.framework.ops) is deprecated and will be removed in a future version.\n",
      "Instructions for updating:\n",
      "Colocations handled automatically by placer.\n",
      "_________________________________________________________________\n",
      "Layer (type)                 Output Shape              Param #   \n",
      "=================================================================\n",
      "input_1 (InputLayer)         (None, 3072)              0         \n",
      "_________________________________________________________________\n",
      "hidden_layer1 (Dense)        (None, 512)               1573376   \n",
      "_________________________________________________________________\n",
      "hidden_layer2 (Dense)        (None, 256)               131328    \n",
      "_________________________________________________________________\n",
      "hidden_layer3 (Dense)        (None, 128)               32896     \n",
      "_________________________________________________________________\n",
      "output (Dense)               (None, 10)                1290      \n",
      "=================================================================\n",
      "Total params: 1,738,890\n",
      "Trainable params: 1,738,890\n",
      "Non-trainable params: 0\n",
      "_________________________________________________________________\n"
     ]
    }
   ],
   "source": [
    "model = build_mlp(input_shape=x_train.shape[1:])\n",
    "model.summary()"
   ]
  },
  {
   "cell_type": "code",
   "execution_count": 14,
   "metadata": {},
   "outputs": [],
   "source": [
    "## 超參數設定\n",
    "LEARNING_RATE = 0.001\n",
    "EPOCHS = 100\n",
    "BATCH_SIZE = 256"
   ]
  },
  {
   "cell_type": "code",
   "execution_count": 15,
   "metadata": {},
   "outputs": [],
   "source": [
    "optimizer = keras.optimizers.Adam(lr=LEARNING_RATE)\n",
    "model.compile(loss=\"categorical_crossentropy\", metrics=[\"accuracy\"], optimizer=optimizer)"
   ]
  },
  {
   "cell_type": "code",
   "execution_count": 16,
   "metadata": {},
   "outputs": [
    {
     "name": "stdout",
     "output_type": "stream",
     "text": [
      "WARNING:tensorflow:From /Users/ctling/anaconda3/lib/python3.7/site-packages/tensorflow/python/ops/math_ops.py:3066: to_int32 (from tensorflow.python.ops.math_ops) is deprecated and will be removed in a future version.\n",
      "Instructions for updating:\n",
      "Use tf.cast instead.\n",
      "Train on 50000 samples, validate on 10000 samples\n",
      "Epoch 1/100\n",
      "50000/50000 [==============================] - 13s 268us/step - loss: 1.9107 - acc: 0.3119 - val_loss: 1.7769 - val_acc: 0.3627\n",
      "Epoch 2/100\n",
      "50000/50000 [==============================] - 13s 267us/step - loss: 1.7000 - acc: 0.3921 - val_loss: 1.6802 - val_acc: 0.3995\n",
      "Epoch 3/100\n",
      "50000/50000 [==============================] - 13s 268us/step - loss: 1.6094 - acc: 0.4261 - val_loss: 1.6085 - val_acc: 0.4294\n",
      "Epoch 4/100\n",
      "50000/50000 [==============================] - 13s 255us/step - loss: 1.5443 - acc: 0.4493 - val_loss: 1.5601 - val_acc: 0.4543\n",
      "Epoch 5/100\n",
      "50000/50000 [==============================] - 12s 241us/step - loss: 1.4936 - acc: 0.4684 - val_loss: 1.5211 - val_acc: 0.4601\n",
      "Epoch 6/100\n",
      "50000/50000 [==============================] - 12s 247us/step - loss: 1.4617 - acc: 0.4814 - val_loss: 1.4989 - val_acc: 0.4638\n",
      "Epoch 7/100\n",
      "50000/50000 [==============================] - 12s 240us/step - loss: 1.4323 - acc: 0.4906 - val_loss: 1.5015 - val_acc: 0.4572\n",
      "Epoch 8/100\n",
      "50000/50000 [==============================] - 12s 242us/step - loss: 1.4015 - acc: 0.4988 - val_loss: 1.4447 - val_acc: 0.4852\n",
      "Epoch 9/100\n",
      "50000/50000 [==============================] - 15s 304us/step - loss: 1.3684 - acc: 0.5146 - val_loss: 1.4472 - val_acc: 0.4809\n",
      "Epoch 10/100\n",
      "50000/50000 [==============================] - 12s 236us/step - loss: 1.3478 - acc: 0.5177 - val_loss: 1.4252 - val_acc: 0.5005\n",
      "Epoch 11/100\n",
      "50000/50000 [==============================] - 11s 217us/step - loss: 1.3190 - acc: 0.5292 - val_loss: 1.3872 - val_acc: 0.5091\n",
      "Epoch 12/100\n",
      "50000/50000 [==============================] - 11s 217us/step - loss: 1.2868 - acc: 0.5448 - val_loss: 1.4516 - val_acc: 0.4856\n",
      "Epoch 13/100\n",
      "50000/50000 [==============================] - 11s 215us/step - loss: 1.2679 - acc: 0.5485 - val_loss: 1.4170 - val_acc: 0.4988\n",
      "Epoch 14/100\n",
      "50000/50000 [==============================] - 11s 212us/step - loss: 1.2406 - acc: 0.5587 - val_loss: 1.4357 - val_acc: 0.4948\n",
      "Epoch 15/100\n",
      "50000/50000 [==============================] - 11s 214us/step - loss: 1.2239 - acc: 0.5659 - val_loss: 1.3682 - val_acc: 0.5189\n",
      "Epoch 16/100\n",
      "50000/50000 [==============================] - 12s 240us/step - loss: 1.2060 - acc: 0.5714 - val_loss: 1.3847 - val_acc: 0.5148\n",
      "Epoch 17/100\n",
      "50000/50000 [==============================] - 16s 320us/step - loss: 1.1779 - acc: 0.5818 - val_loss: 1.3708 - val_acc: 0.5175\n",
      "Epoch 18/100\n",
      "50000/50000 [==============================] - 12s 247us/step - loss: 1.1567 - acc: 0.5883 - val_loss: 1.4250 - val_acc: 0.5027\n",
      "Epoch 19/100\n",
      "50000/50000 [==============================] - 12s 233us/step - loss: 1.1467 - acc: 0.5937 - val_loss: 1.3469 - val_acc: 0.5271\n",
      "Epoch 20/100\n",
      "50000/50000 [==============================] - 12s 238us/step - loss: 1.1216 - acc: 0.5989 - val_loss: 1.3427 - val_acc: 0.5374\n",
      "Epoch 21/100\n",
      "50000/50000 [==============================] - 11s 223us/step - loss: 1.0971 - acc: 0.6095 - val_loss: 1.3410 - val_acc: 0.5307\n",
      "Epoch 22/100\n",
      "50000/50000 [==============================] - 11s 226us/step - loss: 1.0772 - acc: 0.6167 - val_loss: 1.3850 - val_acc: 0.5224\n",
      "Epoch 23/100\n",
      "50000/50000 [==============================] - 11s 224us/step - loss: 1.0615 - acc: 0.6207 - val_loss: 1.3792 - val_acc: 0.5281\n",
      "Epoch 24/100\n",
      "50000/50000 [==============================] - 11s 219us/step - loss: 1.0397 - acc: 0.6282 - val_loss: 1.3843 - val_acc: 0.5233\n",
      "Epoch 25/100\n",
      "50000/50000 [==============================] - 11s 229us/step - loss: 1.0202 - acc: 0.6384 - val_loss: 1.3751 - val_acc: 0.5255\n",
      "Epoch 26/100\n",
      "50000/50000 [==============================] - 13s 263us/step - loss: 0.9998 - acc: 0.6429 - val_loss: 1.3918 - val_acc: 0.5244\n",
      "Epoch 27/100\n",
      "50000/50000 [==============================] - 11s 211us/step - loss: 0.9769 - acc: 0.6528 - val_loss: 1.4336 - val_acc: 0.5172\n",
      "Epoch 28/100\n",
      "50000/50000 [==============================] - 13s 265us/step - loss: 0.9645 - acc: 0.6553 - val_loss: 1.3905 - val_acc: 0.5283\n",
      "Epoch 29/100\n",
      "50000/50000 [==============================] - 19s 377us/step - loss: 0.9512 - acc: 0.6605 - val_loss: 1.4216 - val_acc: 0.5206\n",
      "Epoch 30/100\n",
      "50000/50000 [==============================] - 12s 231us/step - loss: 0.9239 - acc: 0.6706 - val_loss: 1.4476 - val_acc: 0.5225\n",
      "Epoch 31/100\n",
      "50000/50000 [==============================] - 12s 244us/step - loss: 0.9142 - acc: 0.6741 - val_loss: 1.4884 - val_acc: 0.5142\n",
      "Epoch 32/100\n",
      "50000/50000 [==============================] - 13s 252us/step - loss: 0.9012 - acc: 0.6766 - val_loss: 1.4466 - val_acc: 0.5293\n",
      "Epoch 33/100\n",
      "50000/50000 [==============================] - 11s 221us/step - loss: 0.8607 - acc: 0.6918 - val_loss: 1.4790 - val_acc: 0.5273\n",
      "Epoch 34/100\n",
      "50000/50000 [==============================] - 10s 210us/step - loss: 0.8607 - acc: 0.6946 - val_loss: 1.4947 - val_acc: 0.5173\n",
      "Epoch 35/100\n",
      "50000/50000 [==============================] - 11s 211us/step - loss: 0.8386 - acc: 0.6995 - val_loss: 1.5088 - val_acc: 0.5249\n",
      "Epoch 36/100\n",
      "50000/50000 [==============================] - 10s 206us/step - loss: 0.8248 - acc: 0.7048 - val_loss: 1.5683 - val_acc: 0.5186\n",
      "Epoch 37/100\n",
      "50000/50000 [==============================] - 10s 206us/step - loss: 0.8113 - acc: 0.7124 - val_loss: 1.4946 - val_acc: 0.5348\n",
      "Epoch 38/100\n",
      "50000/50000 [==============================] - 10s 208us/step - loss: 0.7915 - acc: 0.7184 - val_loss: 1.5515 - val_acc: 0.5212\n",
      "Epoch 39/100\n",
      "50000/50000 [==============================] - 10s 208us/step - loss: 0.7750 - acc: 0.7239 - val_loss: 1.5894 - val_acc: 0.5191\n",
      "Epoch 40/100\n",
      "50000/50000 [==============================] - 11s 212us/step - loss: 0.7672 - acc: 0.7247 - val_loss: 1.5821 - val_acc: 0.5182\n",
      "Epoch 41/100\n",
      "50000/50000 [==============================] - 11s 211us/step - loss: 0.7549 - acc: 0.7299 - val_loss: 1.6355 - val_acc: 0.5130\n",
      "Epoch 42/100\n",
      "50000/50000 [==============================] - 10s 205us/step - loss: 0.7299 - acc: 0.7377 - val_loss: 1.6412 - val_acc: 0.5194\n",
      "Epoch 43/100\n",
      "50000/50000 [==============================] - 10s 208us/step - loss: 0.7113 - acc: 0.7453 - val_loss: 1.6749 - val_acc: 0.5154\n",
      "Epoch 44/100\n",
      "50000/50000 [==============================] - 10s 206us/step - loss: 0.7005 - acc: 0.7501 - val_loss: 1.6430 - val_acc: 0.5287\n",
      "Epoch 45/100\n",
      "50000/50000 [==============================] - 10s 206us/step - loss: 0.6855 - acc: 0.7532 - val_loss: 1.6873 - val_acc: 0.5259\n",
      "Epoch 46/100\n",
      "50000/50000 [==============================] - 10s 208us/step - loss: 0.6659 - acc: 0.7605 - val_loss: 1.7369 - val_acc: 0.5143\n",
      "Epoch 47/100\n",
      "50000/50000 [==============================] - 10s 206us/step - loss: 0.6637 - acc: 0.7638 - val_loss: 1.7685 - val_acc: 0.5157\n",
      "Epoch 48/100\n",
      "50000/50000 [==============================] - 10s 208us/step - loss: 0.6469 - acc: 0.7670 - val_loss: 1.7321 - val_acc: 0.5281\n",
      "Epoch 49/100\n",
      "50000/50000 [==============================] - 10s 208us/step - loss: 0.6352 - acc: 0.7708 - val_loss: 1.7889 - val_acc: 0.5157\n",
      "Epoch 50/100\n",
      "50000/50000 [==============================] - 11s 210us/step - loss: 0.6140 - acc: 0.7813 - val_loss: 1.7964 - val_acc: 0.5176\n",
      "Epoch 51/100\n",
      "50000/50000 [==============================] - 10s 209us/step - loss: 0.6165 - acc: 0.7777 - val_loss: 1.8484 - val_acc: 0.5084\n",
      "Epoch 52/100\n",
      "50000/50000 [==============================] - 11s 214us/step - loss: 0.6000 - acc: 0.7853 - val_loss: 1.8840 - val_acc: 0.5198\n",
      "Epoch 53/100\n",
      "50000/50000 [==============================] - 10s 204us/step - loss: 0.5877 - acc: 0.7883 - val_loss: 1.8794 - val_acc: 0.5087\n",
      "Epoch 54/100\n",
      "50000/50000 [==============================] - 11s 222us/step - loss: 0.5812 - acc: 0.7921 - val_loss: 1.9270 - val_acc: 0.5112\n",
      "Epoch 55/100\n",
      "50000/50000 [==============================] - 17s 333us/step - loss: 0.5604 - acc: 0.7981 - val_loss: 1.9253 - val_acc: 0.5156\n",
      "Epoch 56/100\n",
      "50000/50000 [==============================] - 11s 220us/step - loss: 0.5737 - acc: 0.7938 - val_loss: 1.9996 - val_acc: 0.5035\n"
     ]
    },
    {
     "name": "stdout",
     "output_type": "stream",
     "text": [
      "Epoch 57/100\n",
      "50000/50000 [==============================] - 10s 208us/step - loss: 0.5500 - acc: 0.8021 - val_loss: 1.9972 - val_acc: 0.5062\n",
      "Epoch 58/100\n",
      "50000/50000 [==============================] - 10s 209us/step - loss: 0.5207 - acc: 0.8138 - val_loss: 2.0352 - val_acc: 0.5141\n",
      "Epoch 59/100\n",
      "50000/50000 [==============================] - 12s 244us/step - loss: 0.5210 - acc: 0.8135 - val_loss: 2.0399 - val_acc: 0.5129\n",
      "Epoch 60/100\n",
      "50000/50000 [==============================] - 15s 292us/step - loss: 0.5263 - acc: 0.8122 - val_loss: 2.0671 - val_acc: 0.5041\n",
      "Epoch 61/100\n",
      "41728/50000 [========================>.....] - ETA: 2s - loss: 0.5046 - acc: 0.8204"
     ]
    },
    {
     "ename": "KeyboardInterrupt",
     "evalue": "",
     "output_type": "error",
     "traceback": [
      "\u001b[0;31m---------------------------------------------------------------------------\u001b[0m",
      "\u001b[0;31mKeyboardInterrupt\u001b[0m                         Traceback (most recent call last)",
      "\u001b[0;32m<ipython-input-16-2b6128154f9a>\u001b[0m in \u001b[0;36m<module>\u001b[0;34m\u001b[0m\n\u001b[1;32m      3\u001b[0m           \u001b[0mbatch_size\u001b[0m\u001b[0;34m=\u001b[0m\u001b[0mBATCH_SIZE\u001b[0m\u001b[0;34m,\u001b[0m\u001b[0;34m\u001b[0m\u001b[0;34m\u001b[0m\u001b[0m\n\u001b[1;32m      4\u001b[0m           \u001b[0mvalidation_data\u001b[0m\u001b[0;34m=\u001b[0m\u001b[0;34m(\u001b[0m\u001b[0mx_test\u001b[0m\u001b[0;34m,\u001b[0m \u001b[0my_test\u001b[0m\u001b[0;34m)\u001b[0m\u001b[0;34m,\u001b[0m\u001b[0;34m\u001b[0m\u001b[0;34m\u001b[0m\u001b[0m\n\u001b[0;32m----> 5\u001b[0;31m           shuffle=True)\n\u001b[0m",
      "\u001b[0;32m~/anaconda3/lib/python3.7/site-packages/keras/engine/training.py\u001b[0m in \u001b[0;36mfit\u001b[0;34m(self, x, y, batch_size, epochs, verbose, callbacks, validation_split, validation_data, shuffle, class_weight, sample_weight, initial_epoch, steps_per_epoch, validation_steps, **kwargs)\u001b[0m\n\u001b[1;32m   1037\u001b[0m                                         \u001b[0minitial_epoch\u001b[0m\u001b[0;34m=\u001b[0m\u001b[0minitial_epoch\u001b[0m\u001b[0;34m,\u001b[0m\u001b[0;34m\u001b[0m\u001b[0;34m\u001b[0m\u001b[0m\n\u001b[1;32m   1038\u001b[0m                                         \u001b[0msteps_per_epoch\u001b[0m\u001b[0;34m=\u001b[0m\u001b[0msteps_per_epoch\u001b[0m\u001b[0;34m,\u001b[0m\u001b[0;34m\u001b[0m\u001b[0;34m\u001b[0m\u001b[0m\n\u001b[0;32m-> 1039\u001b[0;31m                                         validation_steps=validation_steps)\n\u001b[0m\u001b[1;32m   1040\u001b[0m \u001b[0;34m\u001b[0m\u001b[0m\n\u001b[1;32m   1041\u001b[0m     def evaluate(self, x=None, y=None,\n",
      "\u001b[0;32m~/anaconda3/lib/python3.7/site-packages/keras/engine/training_arrays.py\u001b[0m in \u001b[0;36mfit_loop\u001b[0;34m(model, f, ins, out_labels, batch_size, epochs, verbose, callbacks, val_f, val_ins, shuffle, callback_metrics, initial_epoch, steps_per_epoch, validation_steps)\u001b[0m\n\u001b[1;32m    197\u001b[0m                     \u001b[0mins_batch\u001b[0m\u001b[0;34m[\u001b[0m\u001b[0mi\u001b[0m\u001b[0;34m]\u001b[0m \u001b[0;34m=\u001b[0m \u001b[0mins_batch\u001b[0m\u001b[0;34m[\u001b[0m\u001b[0mi\u001b[0m\u001b[0;34m]\u001b[0m\u001b[0;34m.\u001b[0m\u001b[0mtoarray\u001b[0m\u001b[0;34m(\u001b[0m\u001b[0;34m)\u001b[0m\u001b[0;34m\u001b[0m\u001b[0;34m\u001b[0m\u001b[0m\n\u001b[1;32m    198\u001b[0m \u001b[0;34m\u001b[0m\u001b[0m\n\u001b[0;32m--> 199\u001b[0;31m                 \u001b[0mouts\u001b[0m \u001b[0;34m=\u001b[0m \u001b[0mf\u001b[0m\u001b[0;34m(\u001b[0m\u001b[0mins_batch\u001b[0m\u001b[0;34m)\u001b[0m\u001b[0;34m\u001b[0m\u001b[0;34m\u001b[0m\u001b[0m\n\u001b[0m\u001b[1;32m    200\u001b[0m                 \u001b[0mouts\u001b[0m \u001b[0;34m=\u001b[0m \u001b[0mto_list\u001b[0m\u001b[0;34m(\u001b[0m\u001b[0mouts\u001b[0m\u001b[0;34m)\u001b[0m\u001b[0;34m\u001b[0m\u001b[0;34m\u001b[0m\u001b[0m\n\u001b[1;32m    201\u001b[0m                 \u001b[0;32mfor\u001b[0m \u001b[0ml\u001b[0m\u001b[0;34m,\u001b[0m \u001b[0mo\u001b[0m \u001b[0;32min\u001b[0m \u001b[0mzip\u001b[0m\u001b[0;34m(\u001b[0m\u001b[0mout_labels\u001b[0m\u001b[0;34m,\u001b[0m \u001b[0mouts\u001b[0m\u001b[0;34m)\u001b[0m\u001b[0;34m:\u001b[0m\u001b[0;34m\u001b[0m\u001b[0;34m\u001b[0m\u001b[0m\n",
      "\u001b[0;32m~/anaconda3/lib/python3.7/site-packages/keras/backend/tensorflow_backend.py\u001b[0m in \u001b[0;36m__call__\u001b[0;34m(self, inputs)\u001b[0m\n\u001b[1;32m   2713\u001b[0m                 \u001b[0;32mreturn\u001b[0m \u001b[0mself\u001b[0m\u001b[0;34m.\u001b[0m\u001b[0m_legacy_call\u001b[0m\u001b[0;34m(\u001b[0m\u001b[0minputs\u001b[0m\u001b[0;34m)\u001b[0m\u001b[0;34m\u001b[0m\u001b[0;34m\u001b[0m\u001b[0m\n\u001b[1;32m   2714\u001b[0m \u001b[0;34m\u001b[0m\u001b[0m\n\u001b[0;32m-> 2715\u001b[0;31m             \u001b[0;32mreturn\u001b[0m \u001b[0mself\u001b[0m\u001b[0;34m.\u001b[0m\u001b[0m_call\u001b[0m\u001b[0;34m(\u001b[0m\u001b[0minputs\u001b[0m\u001b[0;34m)\u001b[0m\u001b[0;34m\u001b[0m\u001b[0;34m\u001b[0m\u001b[0m\n\u001b[0m\u001b[1;32m   2716\u001b[0m         \u001b[0;32melse\u001b[0m\u001b[0;34m:\u001b[0m\u001b[0;34m\u001b[0m\u001b[0;34m\u001b[0m\u001b[0m\n\u001b[1;32m   2717\u001b[0m             \u001b[0;32mif\u001b[0m \u001b[0mpy_any\u001b[0m\u001b[0;34m(\u001b[0m\u001b[0mis_tensor\u001b[0m\u001b[0;34m(\u001b[0m\u001b[0mx\u001b[0m\u001b[0;34m)\u001b[0m \u001b[0;32mfor\u001b[0m \u001b[0mx\u001b[0m \u001b[0;32min\u001b[0m \u001b[0minputs\u001b[0m\u001b[0;34m)\u001b[0m\u001b[0;34m:\u001b[0m\u001b[0;34m\u001b[0m\u001b[0;34m\u001b[0m\u001b[0m\n",
      "\u001b[0;32m~/anaconda3/lib/python3.7/site-packages/keras/backend/tensorflow_backend.py\u001b[0m in \u001b[0;36m_call\u001b[0;34m(self, inputs)\u001b[0m\n\u001b[1;32m   2673\u001b[0m             \u001b[0mfetched\u001b[0m \u001b[0;34m=\u001b[0m \u001b[0mself\u001b[0m\u001b[0;34m.\u001b[0m\u001b[0m_callable_fn\u001b[0m\u001b[0;34m(\u001b[0m\u001b[0;34m*\u001b[0m\u001b[0marray_vals\u001b[0m\u001b[0;34m,\u001b[0m \u001b[0mrun_metadata\u001b[0m\u001b[0;34m=\u001b[0m\u001b[0mself\u001b[0m\u001b[0;34m.\u001b[0m\u001b[0mrun_metadata\u001b[0m\u001b[0;34m)\u001b[0m\u001b[0;34m\u001b[0m\u001b[0;34m\u001b[0m\u001b[0m\n\u001b[1;32m   2674\u001b[0m         \u001b[0;32melse\u001b[0m\u001b[0;34m:\u001b[0m\u001b[0;34m\u001b[0m\u001b[0;34m\u001b[0m\u001b[0m\n\u001b[0;32m-> 2675\u001b[0;31m             \u001b[0mfetched\u001b[0m \u001b[0;34m=\u001b[0m \u001b[0mself\u001b[0m\u001b[0;34m.\u001b[0m\u001b[0m_callable_fn\u001b[0m\u001b[0;34m(\u001b[0m\u001b[0;34m*\u001b[0m\u001b[0marray_vals\u001b[0m\u001b[0;34m)\u001b[0m\u001b[0;34m\u001b[0m\u001b[0;34m\u001b[0m\u001b[0m\n\u001b[0m\u001b[1;32m   2676\u001b[0m         \u001b[0;32mreturn\u001b[0m \u001b[0mfetched\u001b[0m\u001b[0;34m[\u001b[0m\u001b[0;34m:\u001b[0m\u001b[0mlen\u001b[0m\u001b[0;34m(\u001b[0m\u001b[0mself\u001b[0m\u001b[0;34m.\u001b[0m\u001b[0moutputs\u001b[0m\u001b[0;34m)\u001b[0m\u001b[0;34m]\u001b[0m\u001b[0;34m\u001b[0m\u001b[0;34m\u001b[0m\u001b[0m\n\u001b[1;32m   2677\u001b[0m \u001b[0;34m\u001b[0m\u001b[0m\n",
      "\u001b[0;32m~/anaconda3/lib/python3.7/site-packages/tensorflow/python/client/session.py\u001b[0m in \u001b[0;36m__call__\u001b[0;34m(self, *args, **kwargs)\u001b[0m\n\u001b[1;32m   1437\u001b[0m           ret = tf_session.TF_SessionRunCallable(\n\u001b[1;32m   1438\u001b[0m               \u001b[0mself\u001b[0m\u001b[0;34m.\u001b[0m\u001b[0m_session\u001b[0m\u001b[0;34m.\u001b[0m\u001b[0m_session\u001b[0m\u001b[0;34m,\u001b[0m \u001b[0mself\u001b[0m\u001b[0;34m.\u001b[0m\u001b[0m_handle\u001b[0m\u001b[0;34m,\u001b[0m \u001b[0margs\u001b[0m\u001b[0;34m,\u001b[0m \u001b[0mstatus\u001b[0m\u001b[0;34m,\u001b[0m\u001b[0;34m\u001b[0m\u001b[0;34m\u001b[0m\u001b[0m\n\u001b[0;32m-> 1439\u001b[0;31m               run_metadata_ptr)\n\u001b[0m\u001b[1;32m   1440\u001b[0m         \u001b[0;32mif\u001b[0m \u001b[0mrun_metadata\u001b[0m\u001b[0;34m:\u001b[0m\u001b[0;34m\u001b[0m\u001b[0;34m\u001b[0m\u001b[0m\n\u001b[1;32m   1441\u001b[0m           \u001b[0mproto_data\u001b[0m \u001b[0;34m=\u001b[0m \u001b[0mtf_session\u001b[0m\u001b[0;34m.\u001b[0m\u001b[0mTF_GetBuffer\u001b[0m\u001b[0;34m(\u001b[0m\u001b[0mrun_metadata_ptr\u001b[0m\u001b[0;34m)\u001b[0m\u001b[0;34m\u001b[0m\u001b[0;34m\u001b[0m\u001b[0m\n",
      "\u001b[0;31mKeyboardInterrupt\u001b[0m: "
     ]
    }
   ],
   "source": [
    "model.fit(x_train, y_train, \n",
    "          epochs=EPOCHS, \n",
    "          batch_size=BATCH_SIZE, \n",
    "          validation_data=(x_test, y_test), \n",
    "          shuffle=True)"
   ]
  },
  {
   "cell_type": "code",
   "execution_count": 18,
   "metadata": {},
   "outputs": [
    {
     "data": {
      "image/png": "[encoded data removed]",
      "text/plain": [
       "<Figure size 432x288 with 1 Axes>"
      ]
     },
     "metadata": {
      "needs_background": "light"
     },
     "output_type": "display_data"
    },
    {
     "data": {
      "image/png": "[encoded data removed]",
      "text/plain": [
       "<Figure size 432x288 with 1 Axes>"
      ]
     },
     "metadata": {
      "needs_background": "light"
     },
     "output_type": "display_data"
    }
   ],
   "source": [
    "# 訓練模型並檢視驗證集的結果\n",
    "import matplotlib.pyplot as plt\n",
    "\n",
    "train_loss = model.history.history[\"loss\"]\n",
    "valid_loss = model.history.history[\"val_loss\"]\n",
    "\n",
    "train_acc = model.history.history[\"acc\"]\n",
    "valid_acc = model.history.history[\"val_acc\"]\n",
    "\n",
    "plt.plot(range(len(train_loss)), train_loss, label=\"train loss\")\n",
    "plt.plot(range(len(valid_loss)), valid_loss, label=\"valid loss\")\n",
    "plt.legend()\n",
    "plt.title(\"Loss\")\n",
    "plt.show()\n",
    "\n",
    "plt.plot(range(len(train_acc)), train_acc, label=\"train accuracy\")\n",
    "plt.plot(range(len(valid_acc)), valid_acc, label=\"valid accuracy\")\n",
    "plt.legend()\n",
    "plt.title(\"Accuracy\")\n",
    "plt.show()"
   ]
  },
  {
   "cell_type": "markdown",
   "metadata": {},
   "source": [
    "## Work\n",
    "1. 請嘗試將 preproc_x 替換成以每筆資料的 min/max 進行標準化至 -1 ~ 1 間，再進行訓練\n",
    "2. 請嘗試將 mlp 疊更深 (e.g 5~10 層)，進行訓練後觀察 learning curve 的走勢\n",
    "3. (optional) 請改用 GPU 進行訓練 (如果你有 GPU 的話)，比較使用 CPU 與 GPU 的訓練速度"
   ]
  },
  {
   "cell_type": "code",
   "execution_count": null,
   "metadata": {},
   "outputs": [],
   "source": []
  }
 ],
 "metadata": {
  "kernelspec": {
   "display_name": "Python 3",
   "language": "python",
   "name": "python3"
  },
  "language_info": {
   "codemirror_mode": {
    "name": "ipython",
    "version": 3
   },
   "file_extension": ".py",
   "mimetype": "text/x-python",
   "name": "python",
   "nbconvert_exporter": "python",
   "pygments_lexer": "ipython3",
   "version": "3.7.3"
  }
 },
 "nbformat": 4,
 "nbformat_minor": 2
}
