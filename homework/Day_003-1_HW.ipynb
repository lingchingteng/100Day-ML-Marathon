{
 "cells": [
  {
   "cell_type": "markdown",
   "metadata": {},
   "source": [
    "## 練習時間\n",
    "在小量的資料上，我們用眼睛就可以看得出來程式碼是否有跑出我們理想中的結果\n",
    "\n",
    "請嘗試想像一個你需要的資料結構 (裡面的值可以是隨機的)，然後用上述的方法把它變成 pandas DataFrame\n",
    "\n",
    "#### Ex: 想像一個 dataframe 有兩個欄位，一個是國家，一個是人口，求人口數最多的國家\n",
    "\n",
    "### Hints: [隨機產生數值](https://blog.csdn.net/christianashannon/article/details/78867204)"
   ]
  },
  {
   "cell_type": "code",
   "execution_count": 2,
   "metadata": {},
   "outputs": [],
   "source": [
    "import pandas as pd\n",
    "import numpy as np"
   ]
  },
  {
   "cell_type": "code",
   "execution_count": 9,
   "metadata": {},
   "outputs": [],
   "source": [
    "data = {'國家': ['A', 'B', 'C', 'D', 'E', 'F', 'G', 'H', 'I', 'J'],\n",
    "        '人口': np.random.rand(10)}\n",
    "data = pd.DataFrame(data)"
   ]
  },
  {
   "cell_type": "code",
   "execution_count": 15,
   "metadata": {},
   "outputs": [
    {
     "name": "stdout",
     "output_type": "stream",
     "text": [
      "  國家        人口\n",
      "0  A  0.285021\n",
      "1  B  0.662922\n",
      "2  C  0.288986\n",
      "3  D  0.003086\n",
      "4  E  0.677835\n",
      "5  F  0.800274\n",
      "6  G  0.372697\n",
      "7  H  0.844237\n",
      "8  I  0.162496\n",
      "9  J  0.516914\n",
      "--------------------------------------------------\n",
      "7\n",
      "--------------------------------------------------\n",
      "國家           H\n",
      "人口    0.844237\n",
      "Name: 7, dtype: object\n"
     ]
    }
   ],
   "source": [
    "print(data)\n",
    "print('-' * 50)\n",
    "print(data.loc[:,'人口'].idxmax())\n",
    "print('-' * 50)\n",
    "print(data.iloc[data.loc[:,'人口'].idxmax()])"
   ]
  }
 ],
 "metadata": {
  "kernelspec": {
   "display_name": "Python 3",
   "language": "python",
   "name": "python3"
  },
  "language_info": {
   "codemirror_mode": {
    "name": "ipython",
    "version": 3
   },
   "file_extension": ".py",
   "mimetype": "text/x-python",
   "name": "python",
   "nbconvert_exporter": "python",
   "pygments_lexer": "ipython3",
   "version": "3.7.3"
  }
 },
 "nbformat": 4,
 "nbformat_minor": 2
}
