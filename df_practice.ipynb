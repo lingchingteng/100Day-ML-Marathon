{
 "cells": [
  {
   "cell_type": "code",
   "execution_count": 7,
   "metadata": {},
   "outputs": [
    {
     "name": "stdout",
     "output_type": "stream",
     "text": [
      "   name  age  gender\n",
      "0  yang   23    male\n",
      "1  jian   34    male\n",
      "2    yj   22  female\n",
      "    name  age  gender\n",
      "0   yang   23    male\n",
      "1   jian   34    male\n",
      "2     yj   22  female\n",
      "3  apple   44  female\n"
     ]
    }
   ],
   "source": [
    "import pandas as pd\n",
    "\n",
    "\n",
    "df = pd.DataFrame({\n",
    "        'name':['yang', 'jian', 'yj'], \n",
    "        'age':[23, 34, 22], \n",
    "        'gender':['male', 'male', 'female']\n",
    "    })\n",
    "\n",
    "print(df)\n",
    "\n",
    "df.loc[len(df)] = {'name':'apple', 'age':44, 'gender':'female'}\n",
    "\n",
    "print(df)"
   ]
  }
 ],
 "metadata": {
  "kernelspec": {
   "display_name": "Python 3",
   "language": "python",
   "name": "python3"
  },
  "language_info": {
   "codemirror_mode": {
    "name": "ipython",
    "version": 3
   },
   "file_extension": ".py",
   "mimetype": "text/x-python",
   "name": "python",
   "nbconvert_exporter": "python",
   "pygments_lexer": "ipython3",
   "version": "3.7.3"
  }
 },
 "nbformat": 4,
 "nbformat_minor": 2
}
