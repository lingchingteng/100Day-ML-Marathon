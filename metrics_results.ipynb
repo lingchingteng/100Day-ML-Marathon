{
 "cells": [
  {
   "cell_type": "code",
   "execution_count": 6,
   "metadata": {},
   "outputs": [
    {
     "name": "stdout",
     "output_type": "stream",
     "text": [
      "0.6\n",
      "6\n",
      "0.5833333333333334\n",
      "0.6\n",
      "[0.75 0.5  0.5 ]\n",
      "0.5833333333333334\n",
      "0.6\n",
      "[0.75       0.33333333 0.66666667]\n",
      "0.5738095238095239\n",
      "0.6\n",
      "[0.75       0.4        0.57142857]\n",
      "0.5769537480063796\n",
      "0.6\n",
      "[0.75       0.45454545 0.52631579]\n"
     ]
    }
   ],
   "source": [
    "from sklearn.metrics import accuracy_score, precision_score, recall_score\n",
    "from sklearn.metrics import f1_score, fbeta_score\n",
    "\n",
    "y_true = [0, 0, 0, 2, 1, 2, 0, 1, 1, 2]\n",
    "y_pred = [0, 0, 2, 1, 0, 2, 0, 2, 1, 2]\n",
    "\n",
    "# Return the number of correctly classified samples\n",
    "print(accuracy_score(y_true, y_pred))\n",
    "# Return the fraction of correctly classified samples\n",
    "print(accuracy_score(y_true, y_pred, normalize=False))\n",
    "\n",
    "# Calculate precision score\n",
    "print(precision_score(y_true, y_pred, average='macro'))\n",
    "print(precision_score(y_true, y_pred, average='micro'))\n",
    "print(precision_score(y_true, y_pred, average=None))\n",
    "\n",
    "# Calculate recall score\n",
    "print(recall_score(y_true, y_pred, average='macro'))\n",
    "print(recall_score(y_true, y_pred, average='micro'))\n",
    "print(recall_score(y_true, y_pred, average=None))\n",
    "\n",
    "# Calculate f1 score\n",
    "print(f1_score(y_true, y_pred, average='macro'))\n",
    "print(f1_score(y_true, y_pred, average='micro'))\n",
    "print(f1_score(y_true, y_pred, average=None))\n",
    "\n",
    "# Calculate f beta score\n",
    "print(fbeta_score(y_true, y_pred, average='macro', beta=0.5))\n",
    "print(fbeta_score(y_true, y_pred, average='micro', beta=0.5))\n",
    "print(fbeta_score(y_true, y_pred, average=None, beta=0.5))"
   ]
  }
 ],
 "metadata": {
  "kernelspec": {
   "display_name": "Python 3",
   "language": "python",
   "name": "python3"
  },
  "language_info": {
   "codemirror_mode": {
    "name": "ipython",
    "version": 3
   },
   "file_extension": ".py",
   "mimetype": "text/x-python",
   "name": "python",
   "nbconvert_exporter": "python",
   "pygments_lexer": "ipython3",
   "version": "3.7.3"
  }
 },
 "nbformat": 4,
 "nbformat_minor": 2
}
